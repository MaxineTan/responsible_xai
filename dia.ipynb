{
 "cells": [
  {
   "cell_type": "markdown",
   "metadata": {},
   "source": [
    "## License \n",
    "\n",
    "Copyright 2017 - 2019 Patrick Hall and the H2O.ai team\n",
    "\n",
    "Licensed under the Apache License, Version 2.0 (the \"License\");\n",
    "you may not use this file except in compliance with the License.\n",
    "You may obtain a copy of the License at\n",
    "\n",
    "    http://www.apache.org/licenses/LICENSE-2.0\n",
    "\n",
    "Unless required by applicable law or agreed to in writing, software\n",
    "distributed under the License is distributed on an \"AS IS\" BASIS,\n",
    "WITHOUT WARRANTIES OR CONDITIONS OF ANY KIND, either express or implied.\n",
    "See the License for the specific language governing permissions and\n",
    "limitations under the License."
   ]
  },
  {
   "cell_type": "markdown",
   "metadata": {},
   "source": [
    "**DISCLAIMER:** This notebook is not legal compliance advice."
   ]
  },
  {
   "cell_type": "markdown",
   "metadata": {},
   "source": [
    "#### Python imports\n",
    "In general, NumPy and Pandas will be used for data manipulation purposes and h2o will be used for modeling tasks. "
   ]
  },
  {
   "cell_type": "code",
   "execution_count": 1,
   "metadata": {},
   "outputs": [
    {
     "name": "stderr",
     "output_type": "stream",
     "text": [
      "/home/patrickh/anaconda3/lib/python3.6/site-packages/sklearn/ensemble/weight_boosting.py:29: DeprecationWarning: numpy.core.umath_tests is an internal NumPy module and should not be imported. It will be removed in a future NumPy release.\n",
      "  from numpy.core.umath_tests import inner1d\n"
     ]
    }
   ],
   "source": [
    "# imports\n",
    "\n",
    "# h2o Python API with specific classes\n",
    "import h2o                                        \n",
    "from h2o.estimators.gbm import H2OGradientBoostingEstimator       # for GBM\n",
    "\n",
    "import numpy as np   # array, vector, matrix calculations\n",
    "import pandas as pd  # DataFrame handling\n",
    "\n",
    "import shap # Python Shapley value package\n",
    "\n",
    "# display plots in-notebook\n",
    "%matplotlib inline   "
   ]
  },
  {
   "cell_type": "markdown",
   "metadata": {},
   "source": [
    "#### Start h2o"
   ]
  },
  {
   "cell_type": "code",
   "execution_count": 2,
   "metadata": {},
   "outputs": [
    {
     "name": "stdout",
     "output_type": "stream",
     "text": [
      "Checking whether there is an H2O instance running at http://localhost:54321 ..... not found.\n",
      "Attempting to start a local H2O server...\n",
      "  Java Version: java version \"1.8.0_201\"; Java(TM) SE Runtime Environment (build 1.8.0_201-b09); Java HotSpot(TM) 64-Bit Server VM (build 25.201-b09, mixed mode)\n",
      "  Starting server from /home/patrickh/anaconda3/lib/python3.6/site-packages/h2o/backend/bin/h2o.jar\n",
      "  Ice root: /tmp/tmpgxb1kzrk\n",
      "  JVM stdout: /tmp/tmpgxb1kzrk/h2o_patrickh_started_from_python.out\n",
      "  JVM stderr: /tmp/tmpgxb1kzrk/h2o_patrickh_started_from_python.err\n",
      "  Server is running at http://127.0.0.1:54321\n",
      "Connecting to H2O server at http://127.0.0.1:54321 ... successful.\n"
     ]
    },
    {
     "data": {
      "text/html": [
       "<div style=\"overflow:auto\"><table style=\"width:50%\"><tr><td>H2O cluster uptime:</td>\n",
       "<td>01 secs</td></tr>\n",
       "<tr><td>H2O cluster timezone:</td>\n",
       "<td>America/New_York</td></tr>\n",
       "<tr><td>H2O data parsing timezone:</td>\n",
       "<td>UTC</td></tr>\n",
       "<tr><td>H2O cluster version:</td>\n",
       "<td>3.24.0.2</td></tr>\n",
       "<tr><td>H2O cluster version age:</td>\n",
       "<td>1 month and 22 days </td></tr>\n",
       "<tr><td>H2O cluster name:</td>\n",
       "<td>H2O_from_python_patrickh_y2qrti</td></tr>\n",
       "<tr><td>H2O cluster total nodes:</td>\n",
       "<td>1</td></tr>\n",
       "<tr><td>H2O cluster free memory:</td>\n",
       "<td>1.778 Gb</td></tr>\n",
       "<tr><td>H2O cluster total cores:</td>\n",
       "<td>8</td></tr>\n",
       "<tr><td>H2O cluster allowed cores:</td>\n",
       "<td>8</td></tr>\n",
       "<tr><td>H2O cluster status:</td>\n",
       "<td>accepting new members, healthy</td></tr>\n",
       "<tr><td>H2O connection url:</td>\n",
       "<td>http://127.0.0.1:54321</td></tr>\n",
       "<tr><td>H2O connection proxy:</td>\n",
       "<td>None</td></tr>\n",
       "<tr><td>H2O internal security:</td>\n",
       "<td>False</td></tr>\n",
       "<tr><td>H2O API Extensions:</td>\n",
       "<td>Amazon S3, XGBoost, Algos, AutoML, Core V3, Core V4</td></tr>\n",
       "<tr><td>Python version:</td>\n",
       "<td>3.6.4 final</td></tr></table></div>"
      ],
      "text/plain": [
       "--------------------------  ---------------------------------------------------\n",
       "H2O cluster uptime:         01 secs\n",
       "H2O cluster timezone:       America/New_York\n",
       "H2O data parsing timezone:  UTC\n",
       "H2O cluster version:        3.24.0.2\n",
       "H2O cluster version age:    1 month and 22 days\n",
       "H2O cluster name:           H2O_from_python_patrickh_y2qrti\n",
       "H2O cluster total nodes:    1\n",
       "H2O cluster free memory:    1.778 Gb\n",
       "H2O cluster total cores:    8\n",
       "H2O cluster allowed cores:  8\n",
       "H2O cluster status:         accepting new members, healthy\n",
       "H2O connection url:         http://127.0.0.1:54321\n",
       "H2O connection proxy:\n",
       "H2O internal security:      False\n",
       "H2O API Extensions:         Amazon S3, XGBoost, Algos, AutoML, Core V3, Core V4\n",
       "Python version:             3.6.4 final\n",
       "--------------------------  ---------------------------------------------------"
      ]
     },
     "metadata": {},
     "output_type": "display_data"
    }
   ],
   "source": [
    "h2o.init(max_mem_size='2G')       # start h2o\n",
    "h2o.remove_all()                  # remove any existing data structures from h2o memory"
   ]
  },
  {
   "cell_type": "markdown",
   "metadata": {},
   "source": [
    "## 1. Load, explore, and prepare UCI credit card default data\n",
    "\n",
    "UCI credit card default data: https://archive.ics.uci.edu/ml/datasets/default+of+credit+card+clients\n",
    "\n",
    "The UCI credit card default data contains demographic and payment information about credit card customers in Taiwan in the year 2005. The data set contains 23 input variables: \n",
    "\n",
    "* **`LIMIT_BAL`**: Amount of given credit (NT dollar)\n",
    "* **`SEX`**: 1 = male; 2 = female\n",
    "* **`EDUCATION`**: 1 = graduate school; 2 = university; 3 = high school; 4 = others \n",
    "* **`MARRIAGE`**: 1 = married; 2 = single; 3 = others\n",
    "* **`AGE`**: Age in years \n",
    "* **`PAY_0`, `PAY_2` - `PAY_6`**: History of past payment; `PAY_0` = the repayment status in September, 2005; `PAY_2` = the repayment status in August, 2005; ...; `PAY_6` = the repayment status in April, 2005. The measurement scale for the repayment status is: -1 = pay duly; 1 = payment delay for one month; 2 = payment delay for two months; ...; 8 = payment delay for eight months; 9 = payment delay for nine months and above. \n",
    "* **`BILL_AMT1` - `BILL_AMT6`**: Amount of bill statement (NT dollar). `BILL_AMNT1` = amount of bill statement in September, 2005; `BILL_AMT2` = amount of bill statement in August, 2005; ...; `BILL_AMT6` = amount of bill statement in April, 2005. \n",
    "* **`PAY_AMT1` - `PAY_AMT6`**: Amount of previous payment (NT dollar). `PAY_AMT1` = amount paid in September, 2005; `PAY_AMT2` = amount paid in August, 2005; ...; `PAY_AMT6` = amount paid in April, 2005. \n",
    "\n",
    "These 23 input variables are used to predict the target variable, whether or not a customer defaulted on their credit card bill in late 2005."
   ]
  },
  {
   "cell_type": "markdown",
   "metadata": {},
   "source": [
    "#### Import data and clean"
   ]
  },
  {
   "cell_type": "code",
   "execution_count": 3,
   "metadata": {},
   "outputs": [
    {
     "name": "stdout",
     "output_type": "stream",
     "text": [
      "Parse progress: |█████████████████████████████████████████████████████████| 100%\n"
     ]
    }
   ],
   "source": [
    "# import XLS file\n",
    "path = 'default_of_credit_card_clients.xls'\n",
    "data = pd.read_excel(path,\n",
    "                     skiprows=1)\n",
    "\n",
    "# remove spaces from target column name \n",
    "data = data.rename(columns={'default payment next month': 'DEFAULT_NEXT_MONTH'}) \n",
    "data = h2o.H2OFrame(data)"
   ]
  },
  {
   "cell_type": "markdown",
   "metadata": {},
   "source": [
    "#### Assign modeling roles"
   ]
  },
  {
   "cell_type": "code",
   "execution_count": 4,
   "metadata": {},
   "outputs": [
    {
     "name": "stdout",
     "output_type": "stream",
     "text": [
      "y = DEFAULT_NEXT_MONTH\n",
      "X = ['PAY_0', 'PAY_2', 'PAY_3', 'PAY_4', 'PAY_5', 'PAY_6', 'BILL_AMT1', 'BILL_AMT2', 'BILL_AMT3', 'BILL_AMT4', 'BILL_AMT5', 'BILL_AMT6', 'PAY_AMT1', 'PAY_AMT2', 'PAY_AMT3', 'PAY_AMT4', 'PAY_AMT5', 'PAY_AMT6']\n"
     ]
    }
   ],
   "source": [
    "# assign target and inputs for GBM\n",
    "y = 'DEFAULT_NEXT_MONTH'\n",
    "X = [name for name in data.columns if name not in [y, 'ID', 'AGE', 'EDUCATION', 'SEX', 'MARRIAGE', 'LIMIT_BAL']]\n",
    "print('y =', y)\n",
    "print('X =', X)"
   ]
  },
  {
   "cell_type": "markdown",
   "metadata": {},
   "source": [
    "#### Ensure target is handled as a categorical variable"
   ]
  },
  {
   "cell_type": "code",
   "execution_count": 5,
   "metadata": {},
   "outputs": [],
   "source": [
    "data[y] = data[y].asfactor() "
   ]
  },
  {
   "cell_type": "markdown",
   "metadata": {},
   "source": [
    "#### Display descriptive statistics"
   ]
  },
  {
   "cell_type": "code",
   "execution_count": 6,
   "metadata": {},
   "outputs": [
    {
     "name": "stdout",
     "output_type": "stream",
     "text": [
      "Rows:30000\n",
      "Cols:19\n",
      "\n",
      "\n"
     ]
    },
    {
     "data": {
      "text/html": [
       "<table>\n",
       "<thead>\n",
       "<tr><th>       </th><th>PAY_0                </th><th>PAY_2              </th><th>PAY_3               </th><th>PAY_4              </th><th>PAY_5               </th><th>PAY_6              </th><th>BILL_AMT1        </th><th>BILL_AMT2        </th><th>BILL_AMT3         </th><th>BILL_AMT4         </th><th>BILL_AMT5        </th><th>BILL_AMT6        </th><th>PAY_AMT1         </th><th>PAY_AMT2         </th><th>PAY_AMT3         </th><th>PAY_AMT4          </th><th>PAY_AMT5          </th><th>PAY_AMT6         </th><th>DEFAULT_NEXT_MONTH  </th></tr>\n",
       "</thead>\n",
       "<tbody>\n",
       "<tr><td>type   </td><td>int                  </td><td>int                </td><td>int                 </td><td>int                </td><td>int                 </td><td>int                </td><td>int              </td><td>int              </td><td>int               </td><td>int               </td><td>int              </td><td>int              </td><td>int              </td><td>int              </td><td>int              </td><td>int               </td><td>int               </td><td>int              </td><td>enum                </td></tr>\n",
       "<tr><td>mins   </td><td>-2.0                 </td><td>-2.0               </td><td>-2.0                </td><td>-2.0               </td><td>-2.0                </td><td>-2.0               </td><td>-165580.0        </td><td>-69777.0         </td><td>-157264.0         </td><td>-170000.0         </td><td>-81334.0         </td><td>-339603.0        </td><td>0.0              </td><td>0.0              </td><td>0.0              </td><td>0.0               </td><td>0.0               </td><td>0.0              </td><td>                    </td></tr>\n",
       "<tr><td>mean   </td><td>-0.016700000000000118</td><td>-0.1337666666666667</td><td>-0.16619999999999988</td><td>-0.2206666666666661</td><td>-0.26620000000000105</td><td>-0.2910999999999988</td><td>51223.33090000043</td><td>49179.07516666629</td><td>47013.154799999655</td><td>43262.94896666659 </td><td>40311.40096666682</td><td>38871.76039999976</td><td>5663.580500000035</td><td>5921.163499999979</td><td>5225.681499999981</td><td>4826.076866666652 </td><td>4799.387633333336 </td><td>5215.50256666665 </td><td>                    </td></tr>\n",
       "<tr><td>maxs   </td><td>8.0                  </td><td>8.0                </td><td>8.0                 </td><td>8.0                </td><td>8.0                 </td><td>8.0                </td><td>964511.0         </td><td>983931.0         </td><td>1664089.0         </td><td>891586.0          </td><td>927171.0         </td><td>961664.0         </td><td>873552.0         </td><td>1684259.0        </td><td>896040.0         </td><td>621000.0          </td><td>426529.0          </td><td>528666.0         </td><td>                    </td></tr>\n",
       "<tr><td>sigma  </td><td>1.1238015279973332   </td><td>1.1971859730345495 </td><td>1.1968675684465686  </td><td>1.1691386224023357 </td><td>1.1331874060027525  </td><td>1.149987625607897  </td><td>73635.86057552966</td><td>71173.76878252832</td><td>69349.38742703677 </td><td>64332.856133916444</td><td>60797.15577026471</td><td>59554.1075367459 </td><td>16563.28035402577</td><td>23040.87040205719</td><td>17606.96146980311</td><td>15666.159744032062</td><td>15278.305679144742</td><td>17777.46577543531</td><td>                    </td></tr>\n",
       "<tr><td>zeros  </td><td>14737                </td><td>15730              </td><td>15764               </td><td>16455              </td><td>16947               </td><td>16286              </td><td>2008             </td><td>2506             </td><td>2870              </td><td>3195              </td><td>3506             </td><td>4020             </td><td>5249             </td><td>5396             </td><td>5968             </td><td>6408              </td><td>6703              </td><td>7173             </td><td>                    </td></tr>\n",
       "<tr><td>missing</td><td>0                    </td><td>0                  </td><td>0                   </td><td>0                  </td><td>0                   </td><td>0                  </td><td>0                </td><td>0                </td><td>0                 </td><td>0                 </td><td>0                </td><td>0                </td><td>0                </td><td>0                </td><td>0                </td><td>0                 </td><td>0                 </td><td>0                </td><td>0                   </td></tr>\n",
       "<tr><td>0      </td><td>2.0                  </td><td>2.0                </td><td>-1.0                </td><td>-1.0               </td><td>-2.0                </td><td>-2.0               </td><td>3913.0           </td><td>3102.0           </td><td>689.0             </td><td>0.0               </td><td>0.0              </td><td>0.0              </td><td>0.0              </td><td>689.0            </td><td>0.0              </td><td>0.0               </td><td>0.0               </td><td>0.0              </td><td>1                   </td></tr>\n",
       "<tr><td>1      </td><td>-1.0                 </td><td>2.0                </td><td>0.0                 </td><td>0.0                </td><td>0.0                 </td><td>2.0                </td><td>2682.0           </td><td>1725.0           </td><td>2682.0            </td><td>3272.0            </td><td>3455.0           </td><td>3261.0           </td><td>0.0              </td><td>1000.0           </td><td>1000.0           </td><td>1000.0            </td><td>0.0               </td><td>2000.0           </td><td>1                   </td></tr>\n",
       "<tr><td>2      </td><td>0.0                  </td><td>0.0                </td><td>0.0                 </td><td>0.0                </td><td>0.0                 </td><td>0.0                </td><td>29239.0          </td><td>14027.0          </td><td>13559.0           </td><td>14331.0           </td><td>14948.0          </td><td>15549.0          </td><td>1518.0           </td><td>1500.0           </td><td>1000.0           </td><td>1000.0            </td><td>1000.0            </td><td>5000.0           </td><td>0                   </td></tr>\n",
       "<tr><td>3      </td><td>0.0                  </td><td>0.0                </td><td>0.0                 </td><td>0.0                </td><td>0.0                 </td><td>0.0                </td><td>46990.0          </td><td>48233.0          </td><td>49291.0           </td><td>28314.0           </td><td>28959.0          </td><td>29547.0          </td><td>2000.0           </td><td>2019.0           </td><td>1200.0           </td><td>1100.0            </td><td>1069.0            </td><td>1000.0           </td><td>0                   </td></tr>\n",
       "<tr><td>4      </td><td>-1.0                 </td><td>0.0                </td><td>-1.0                </td><td>0.0                </td><td>0.0                 </td><td>0.0                </td><td>8617.0           </td><td>5670.0           </td><td>35835.0           </td><td>20940.0           </td><td>19146.0          </td><td>19131.0          </td><td>2000.0           </td><td>36681.0          </td><td>10000.0          </td><td>9000.0            </td><td>689.0             </td><td>679.0            </td><td>0                   </td></tr>\n",
       "<tr><td>5      </td><td>0.0                  </td><td>0.0                </td><td>0.0                 </td><td>0.0                </td><td>0.0                 </td><td>0.0                </td><td>64400.0          </td><td>57069.0          </td><td>57608.0           </td><td>19394.0           </td><td>19619.0          </td><td>20024.0          </td><td>2500.0           </td><td>1815.0           </td><td>657.0            </td><td>1000.0            </td><td>1000.0            </td><td>800.0            </td><td>0                   </td></tr>\n",
       "<tr><td>6      </td><td>0.0                  </td><td>0.0                </td><td>0.0                 </td><td>0.0                </td><td>0.0                 </td><td>0.0                </td><td>367965.0         </td><td>412023.0         </td><td>445007.0          </td><td>542653.0          </td><td>483003.0         </td><td>473944.0         </td><td>55000.0          </td><td>40000.0          </td><td>38000.0          </td><td>20239.0           </td><td>13750.0           </td><td>13770.0          </td><td>0                   </td></tr>\n",
       "<tr><td>7      </td><td>0.0                  </td><td>-1.0               </td><td>-1.0                </td><td>0.0                </td><td>0.0                 </td><td>-1.0               </td><td>11876.0          </td><td>380.0            </td><td>601.0             </td><td>221.0             </td><td>-159.0           </td><td>567.0            </td><td>380.0            </td><td>601.0            </td><td>0.0              </td><td>581.0             </td><td>1687.0            </td><td>1542.0           </td><td>0                   </td></tr>\n",
       "<tr><td>8      </td><td>0.0                  </td><td>0.0                </td><td>2.0                 </td><td>0.0                </td><td>0.0                 </td><td>0.0                </td><td>11285.0          </td><td>14096.0          </td><td>12108.0           </td><td>12211.0           </td><td>11793.0          </td><td>3719.0           </td><td>3329.0           </td><td>0.0              </td><td>432.0            </td><td>1000.0            </td><td>1000.0            </td><td>1000.0           </td><td>0                   </td></tr>\n",
       "<tr><td>9      </td><td>-2.0                 </td><td>-2.0               </td><td>-2.0                </td><td>-2.0               </td><td>-1.0                </td><td>-1.0               </td><td>0.0              </td><td>0.0              </td><td>0.0               </td><td>0.0               </td><td>13007.0          </td><td>13912.0          </td><td>0.0              </td><td>0.0              </td><td>0.0              </td><td>13007.0           </td><td>1122.0            </td><td>0.0              </td><td>0                   </td></tr>\n",
       "</tbody>\n",
       "</table>"
      ]
     },
     "metadata": {},
     "output_type": "display_data"
    }
   ],
   "source": [
    "data[X + [y]].describe()"
   ]
  },
  {
   "cell_type": "markdown",
   "metadata": {},
   "source": [
    "## 2. Train an H2O Montonic GBM classifier"
   ]
  },
  {
   "cell_type": "markdown",
   "metadata": {},
   "source": [
    "#### Split data into training and test sets for early stopping"
   ]
  },
  {
   "cell_type": "code",
   "execution_count": 7,
   "metadata": {},
   "outputs": [
    {
     "name": "stdout",
     "output_type": "stream",
     "text": [
      "Train data rows = 21060, columns = 25\n",
      "Test data rows = 8940, columns = 25\n"
     ]
    }
   ],
   "source": [
    "# split into training and validation\n",
    "train, test = data.split_frame([0.7], seed=12345)\n",
    "\n",
    "# summarize split\n",
    "print('Train data rows = %d, columns = %d' % (train.shape[0], train.shape[1]))\n",
    "print('Test data rows = %d, columns = %d' % (test.shape[0], test.shape[1]))"
   ]
  },
  {
   "cell_type": "markdown",
   "metadata": {},
   "source": [
    "#### Establish monotonicity constraints based on Pearson correlation"
   ]
  },
  {
   "cell_type": "code",
   "execution_count": 8,
   "metadata": {},
   "outputs": [
    {
     "data": {
      "text/html": [
       "<div>\n",
       "<style scoped>\n",
       "    .dataframe tbody tr th:only-of-type {\n",
       "        vertical-align: middle;\n",
       "    }\n",
       "\n",
       "    .dataframe tbody tr th {\n",
       "        vertical-align: top;\n",
       "    }\n",
       "\n",
       "    .dataframe thead th {\n",
       "        text-align: right;\n",
       "    }\n",
       "</style>\n",
       "<table border=\"1\" class=\"dataframe\">\n",
       "  <thead>\n",
       "    <tr style=\"text-align: right;\">\n",
       "      <th></th>\n",
       "      <th>DEFAULT_NEXT_MONTH</th>\n",
       "    </tr>\n",
       "  </thead>\n",
       "  <tbody>\n",
       "    <tr>\n",
       "      <th>PAY_0</th>\n",
       "      <td>0.318419</td>\n",
       "    </tr>\n",
       "    <tr>\n",
       "      <th>PAY_2</th>\n",
       "      <td>0.250650</td>\n",
       "    </tr>\n",
       "    <tr>\n",
       "      <th>PAY_3</th>\n",
       "      <td>0.220672</td>\n",
       "    </tr>\n",
       "    <tr>\n",
       "      <th>PAY_4</th>\n",
       "      <td>0.201708</td>\n",
       "    </tr>\n",
       "    <tr>\n",
       "      <th>PAY_5</th>\n",
       "      <td>0.193368</td>\n",
       "    </tr>\n",
       "    <tr>\n",
       "      <th>PAY_6</th>\n",
       "      <td>0.183716</td>\n",
       "    </tr>\n",
       "    <tr>\n",
       "      <th>BILL_AMT1</th>\n",
       "      <td>-0.023252</td>\n",
       "    </tr>\n",
       "    <tr>\n",
       "      <th>BILL_AMT2</th>\n",
       "      <td>-0.019563</td>\n",
       "    </tr>\n",
       "    <tr>\n",
       "      <th>BILL_AMT3</th>\n",
       "      <td>-0.021105</td>\n",
       "    </tr>\n",
       "    <tr>\n",
       "      <th>BILL_AMT4</th>\n",
       "      <td>-0.018092</td>\n",
       "    </tr>\n",
       "    <tr>\n",
       "      <th>BILL_AMT5</th>\n",
       "      <td>-0.012072</td>\n",
       "    </tr>\n",
       "    <tr>\n",
       "      <th>BILL_AMT6</th>\n",
       "      <td>-0.011350</td>\n",
       "    </tr>\n",
       "    <tr>\n",
       "      <th>PAY_AMT1</th>\n",
       "      <td>-0.085398</td>\n",
       "    </tr>\n",
       "    <tr>\n",
       "      <th>PAY_AMT2</th>\n",
       "      <td>-0.062419</td>\n",
       "    </tr>\n",
       "    <tr>\n",
       "      <th>PAY_AMT3</th>\n",
       "      <td>-0.069603</td>\n",
       "    </tr>\n",
       "    <tr>\n",
       "      <th>PAY_AMT4</th>\n",
       "      <td>-0.055825</td>\n",
       "    </tr>\n",
       "    <tr>\n",
       "      <th>PAY_AMT5</th>\n",
       "      <td>-0.051942</td>\n",
       "    </tr>\n",
       "    <tr>\n",
       "      <th>PAY_AMT6</th>\n",
       "      <td>-0.047694</td>\n",
       "    </tr>\n",
       "  </tbody>\n",
       "</table>\n",
       "</div>"
      ],
      "text/plain": [
       "           DEFAULT_NEXT_MONTH\n",
       "PAY_0                0.318419\n",
       "PAY_2                0.250650\n",
       "PAY_3                0.220672\n",
       "PAY_4                0.201708\n",
       "PAY_5                0.193368\n",
       "PAY_6                0.183716\n",
       "BILL_AMT1           -0.023252\n",
       "BILL_AMT2           -0.019563\n",
       "BILL_AMT3           -0.021105\n",
       "BILL_AMT4           -0.018092\n",
       "BILL_AMT5           -0.012072\n",
       "BILL_AMT6           -0.011350\n",
       "PAY_AMT1            -0.085398\n",
       "PAY_AMT2            -0.062419\n",
       "PAY_AMT3            -0.069603\n",
       "PAY_AMT4            -0.055825\n",
       "PAY_AMT5            -0.051942\n",
       "PAY_AMT6            -0.047694"
      ]
     },
     "execution_count": 8,
     "metadata": {},
     "output_type": "execute_result"
    }
   ],
   "source": [
    "pd.DataFrame(test.as_data_frame()[X + [y]].corr()[y]).iloc[:-1]"
   ]
  },
  {
   "cell_type": "code",
   "execution_count": 9,
   "metadata": {},
   "outputs": [
    {
     "data": {
      "text/plain": [
       "{'BILL_AMT1': -1,\n",
       " 'BILL_AMT2': -1,\n",
       " 'BILL_AMT3': -1,\n",
       " 'BILL_AMT4': -1,\n",
       " 'BILL_AMT5': -1,\n",
       " 'BILL_AMT6': -1,\n",
       " 'PAY_0': 1,\n",
       " 'PAY_2': 1,\n",
       " 'PAY_3': 1,\n",
       " 'PAY_4': 1,\n",
       " 'PAY_5': 1,\n",
       " 'PAY_6': 1,\n",
       " 'PAY_AMT1': -1,\n",
       " 'PAY_AMT2': -1,\n",
       " 'PAY_AMT3': -1,\n",
       " 'PAY_AMT4': -1,\n",
       " 'PAY_AMT5': -1,\n",
       " 'PAY_AMT6': -1}"
      ]
     },
     "execution_count": 9,
     "metadata": {},
     "output_type": "execute_result"
    }
   ],
   "source": [
    "# positive Pearson correlation w/ P_DEFAULT_NEXT_MONTH == positive constraint == 1\n",
    "# negative Pearson correlation w/ P_DEFAULT_NEXT_MONTH == negative constraint == -1\n",
    "names = list(test.as_data_frame()[X + [y]].corr()[y].index)[:-1]\n",
    "signs = list([int(i) for i in np.sign(test.as_data_frame()[X + [y]].corr()[y].values[:-1])])\n",
    "\n",
    "mc = {}\n",
    "for i, name in enumerate(names):\n",
    "    mc[name] = signs[i]\n",
    "\n",
    "mc"
   ]
  },
  {
   "cell_type": "markdown",
   "metadata": {},
   "source": [
    "#### Train h2o monotonic GBM classifier "
   ]
  },
  {
   "cell_type": "code",
   "execution_count": 10,
   "metadata": {},
   "outputs": [
    {
     "name": "stdout",
     "output_type": "stream",
     "text": [
      "gbm Model Build progress: |███████████████████████████████████████████████| 100%\n",
      "GBM Test AUC = 0.77\n"
     ]
    }
   ],
   "source": [
    "# initialize GBM model\n",
    "model = H2OGradientBoostingEstimator(ntrees=150,                # maximum 150 trees in GBM\n",
    "                                     max_depth=4,               # trees can have maximum depth of 4\n",
    "                                     sample_rate=0.9,           # use 90% of rows in each iteration (tree)\n",
    "                                     col_sample_rate=0.9,       # use 90% of variables in each iteration (tree)\n",
    "                                     #balance_classes=True,     # sample to balance 0/1 distribution of target - can help LOCO\n",
    "                                     stopping_rounds=5,         # stop if validation error does not decrease for 5 iterations (trees)\n",
    "                                     score_tree_interval=1,     # for reproducibility, set higher for bigger data\n",
    "                                     monotone_constraints=mc,   # enforces monotonicity wrt each input\n",
    "                                     model_id='dia_gbm',        # for locating the model in Flow UI \n",
    "                                     seed=12345)                # for reproducibility\n",
    "\n",
    "# train a GBM model\n",
    "model.train(y=y, x=X, training_frame=train, validation_frame=test)\n",
    "\n",
    "# print AUC\n",
    "print('GBM Test AUC = %.2f' % model.auc(valid=True))\n",
    "\n",
    "# uncomment to see model details\n",
    "# print(model) "
   ]
  },
  {
   "cell_type": "markdown",
   "metadata": {},
   "source": [
    "#### Display Shapley variable importance"
   ]
  },
  {
   "cell_type": "code",
   "execution_count": 11,
   "metadata": {},
   "outputs": [
    {
     "name": "stderr",
     "output_type": "stream",
     "text": [
      "/home/patrickh/anaconda3/lib/python3.6/site-packages/ipykernel_launcher.py:2: FutureWarning: Method .as_matrix will be removed in a future version. Use .values instead.\n",
      "  \n"
     ]
    },
    {
     "data": {
      "image/png": "[encoded data removed]",
      "text/plain": [
       "<matplotlib.figure.Figure at 0x7f092d642b00>"
      ]
     },
     "metadata": {},
     "output_type": "display_data"
    }
   ],
   "source": [
    "contributions = model.predict_contributions(test)\n",
    "contributions_matrix = contributions.as_data_frame().as_matrix()\n",
    "shap_values = contributions_matrix[:,:-1]\n",
    "shap.summary_plot(shap_values, X, plot_type='bar', color='royalblue')"
   ]
  },
  {
   "cell_type": "markdown",
   "metadata": {},
   "source": [
    "#### Bind model predictions to test data for further calculations"
   ]
  },
  {
   "cell_type": "code",
   "execution_count": 12,
   "metadata": {},
   "outputs": [
    {
     "name": "stdout",
     "output_type": "stream",
     "text": [
      "gbm prediction progress: |████████████████████████████████████████████████| 100%\n"
     ]
    }
   ],
   "source": [
    "# cbind predictions to training frame\n",
    "# give them a nice name\n",
    "yhat = 'p_DEFAULT_NEXT_MONTH'\n",
    "preds1 = test['ID'].cbind(model.predict(test).drop(['predict', 'p0']))\n",
    "preds1.columns = ['ID', yhat]\n",
    "test_yhat = test.cbind(preds1[yhat]).as_data_frame()"
   ]
  },
  {
   "cell_type": "markdown",
   "metadata": {},
   "source": [
    "# 3. Select a Probability Cutoff by Maximizing F1 Statistic"
   ]
  },
  {
   "cell_type": "markdown",
   "metadata": {},
   "source": [
    "#### Function to calculate AUC-PR Curve"
   ]
  },
  {
   "cell_type": "code",
   "execution_count": 13,
   "metadata": {},
   "outputs": [],
   "source": [
    "def get_prroc(frame, y, yhat, pos=1, neg=0, res=0.01):\n",
    "    \n",
    "    \"\"\" Calculates precision, recall, and f1 for a pandas dataframe of y and yhat values.\n",
    "    \n",
    "    Args:\n",
    "        frame: Pandas dataframe of actual (y) and predicted (yhat) values.\n",
    "        y: Name of actual value column.\n",
    "        yhat: Name of predicted value column.\n",
    "        pos: Primary target value, default 1.\n",
    "        neg: Secondary target value, default 0.\n",
    "        res: Resolution by which to loop through cutoffs, default 0.01.\n",
    "    \n",
    "    Returns:\n",
    "        Pandas dataframe of precision, recall, and f1 values. \n",
    "    \"\"\"\n",
    "    \n",
    "    frame_ = frame.copy(deep=True) # don't destroy original data\n",
    "    dname = 'd_' + str(y) # column for predicted decisions\n",
    "    eps = 1e-20 # for safe numerical operations\n",
    "    \n",
    "    # init p-r roc frame\n",
    "    prroc_frame = pd.DataFrame(columns=['cutoff', 'recall', 'precision', 'f1'])\n",
    "    \n",
    "    # loop through cutoffs to create p-r roc frame\n",
    "    for cutoff in np.arange(0, 1 + res, res):\n",
    "\n",
    "        # binarize decision to create confusion matrix values\n",
    "        frame_[dname] = np.where(frame_[yhat] > cutoff , 1, 0)\n",
    "        \n",
    "        # calculate confusion matrix values\n",
    "        tp = frame_[(frame_[dname] == pos) & (frame_[y] == pos)].shape[0]\n",
    "        fp = frame_[(frame_[dname] == pos) & (frame_[y] == neg)].shape[0]\n",
    "        tn = frame_[(frame_[dname] == neg) & (frame_[y] == neg)].shape[0]\n",
    "        fn = frame_[(frame_[dname] == neg) & (frame_[y] == pos)].shape[0]\n",
    "        \n",
    "        # calculate precision, recall, and f1\n",
    "        recall = (tp + eps)/((tp + fn) + eps)\n",
    "        precision = (tp + eps)/((tp + fp) + eps)\n",
    "        f1 = 2/((1/(recall + eps)) + (1/(precision + eps)))\n",
    "        \n",
    "        # add new values to frame\n",
    "        prroc_frame = prroc_frame.append({'cutoff': cutoff,\n",
    "                                          'recall': recall,\n",
    "                                          'precision': precision,\n",
    "                                          'f1': f1}, \n",
    "                                          ignore_index=True)\n",
    "    \n",
    "    # housekeeping\n",
    "    del frame_\n",
    "    \n",
    "    return prroc_frame\n",
    "        \n",
    "prroc_frame = get_prroc(test_yhat, 'DEFAULT_NEXT_MONTH', 'p_DEFAULT_NEXT_MONTH')"
   ]
  },
  {
   "cell_type": "markdown",
   "metadata": {},
   "source": [
    "#### Select best cutoff"
   ]
  },
  {
   "cell_type": "code",
   "execution_count": 14,
   "metadata": {},
   "outputs": [
    {
     "name": "stdout",
     "output_type": "stream",
     "text": [
      "0.26\n"
     ]
    }
   ],
   "source": [
    "best_cut = prroc_frame.loc[prroc_frame['f1'].idxmax(), 'cutoff'] # Find cutoff w/ max F1\n",
    "print('%.2f' % best_cut)"
   ]
  },
  {
   "cell_type": "markdown",
   "metadata": {},
   "source": [
    "#### Plot AUC-PR Curve"
   ]
  },
  {
   "cell_type": "code",
   "execution_count": 15,
   "metadata": {},
   "outputs": [
    {
     "data": {
      "image/png": "[encoded data removed]",
      "text/plain": [
       "<matplotlib.figure.Figure at 0x7f09118c8278>"
      ]
     },
     "metadata": {},
     "output_type": "display_data"
    }
   ],
   "source": [
    "# Plot P-R ROC w/ best cutoff\n",
    "title_ = 'P-R Curve: Best F1 = ' + str(best_cut)\n",
    "ax = prroc_frame.plot(x='recall', y='precision', kind='scatter', title=title_, xlim=[0,1])\n",
    "_ = ax.axvline(best_cut, color='r')"
   ]
  },
  {
   "cell_type": "markdown",
   "metadata": {},
   "source": [
    "# 4. Report Raw Confusion Matrices"
   ]
  },
  {
   "cell_type": "markdown",
   "metadata": {},
   "source": [
    "#### Function to print confusion matrices by an input variable"
   ]
  },
  {
   "cell_type": "code",
   "execution_count": 16,
   "metadata": {},
   "outputs": [
    {
     "name": "stdout",
     "output_type": "stream",
     "text": [
      "Confusion matrix:\n"
     ]
    },
    {
     "data": {
      "text/html": [
       "<div>\n",
       "<style scoped>\n",
       "    .dataframe tbody tr th:only-of-type {\n",
       "        vertical-align: middle;\n",
       "    }\n",
       "\n",
       "    .dataframe tbody tr th {\n",
       "        vertical-align: top;\n",
       "    }\n",
       "\n",
       "    .dataframe thead th {\n",
       "        text-align: right;\n",
       "    }\n",
       "</style>\n",
       "<table border=\"1\" class=\"dataframe\">\n",
       "  <thead>\n",
       "    <tr style=\"text-align: right;\">\n",
       "      <th></th>\n",
       "      <th>actual: 1</th>\n",
       "      <th>actual: 0</th>\n",
       "    </tr>\n",
       "  </thead>\n",
       "  <tbody>\n",
       "    <tr>\n",
       "      <th>predicted: 1</th>\n",
       "      <td>1083</td>\n",
       "      <td>920</td>\n",
       "    </tr>\n",
       "    <tr>\n",
       "      <th>predicted: 0</th>\n",
       "      <td>949</td>\n",
       "      <td>5988</td>\n",
       "    </tr>\n",
       "  </tbody>\n",
       "</table>\n",
       "</div>"
      ],
      "text/plain": [
       "             actual: 1 actual: 0\n",
       "predicted: 1      1083       920\n",
       "predicted: 0       949      5988"
      ]
     },
     "execution_count": 16,
     "metadata": {},
     "output_type": "execute_result"
    }
   ],
   "source": [
    "def get_confusion_matrix(frame, y, yhat, by=None, level=None, cutoff=0.5):\n",
    "\n",
    "    \"\"\" Creates confusion matrix from pandas dataframe of y and yhat values, can be sliced \n",
    "        by a variable and level.\n",
    "    \n",
    "    Args:\n",
    "        frame: Pandas dataframe of actual (y) and predicted (yhat) values.\n",
    "        y: Name of actual value column.\n",
    "        yhat: Name of predicted value column.\n",
    "        by: By variable to slice frame before creating confusion matrix, default None.\n",
    "        level: Value of by variable to slice frame before creating confusion matrix, default None.\n",
    "        cutoff: Cutoff threshold for confusion matrix, default 0.5. \n",
    "\n",
    "    Returns:\n",
    "        Confusion matrix as pandas dataframe. \n",
    "    \"\"\"\n",
    "    \n",
    "    # determine levels of target (y) variable\n",
    "    # sort for consistency\n",
    "    level_list = list(frame[y].unique())\n",
    "    level_list.sort(reverse=True)\n",
    "\n",
    "    # init confusion matrix\n",
    "    cm_frame = pd.DataFrame(columns=['actual: ' +  str(i) for i in level_list], \n",
    "                            index=['predicted: ' + str(i) for i in level_list])\n",
    "    \n",
    "    # don't destroy original data\n",
    "    frame_ = frame.copy(deep=True)\n",
    "    \n",
    "    # convert numeric predictions to binary decisions using cutoff\n",
    "    dname = 'd_' + str(y)\n",
    "    frame_[dname] = np.where(frame_[yhat] > cutoff , 1, 0)\n",
    "    \n",
    "    # slice frame\n",
    "    if (by is not None) & (level is not None):\n",
    "        frame_ = frame_[frame[by] == level]\n",
    "    \n",
    "    # calculate size of each confusion matrix value\n",
    "    for i, lev_i in enumerate(level_list):\n",
    "        for j, lev_j in enumerate(level_list):\n",
    "            cm_frame.iat[i, j] = frame_[(frame_[y] == lev_i) & (frame_[dname] == lev_j)].shape[0]\n",
    "    \n",
    "    # output results\n",
    "    if by is None:\n",
    "        print('Confusion matrix:')\n",
    "    else:\n",
    "        print('Confusion matrix by ' + by + '=' + str(level))\n",
    "    \n",
    "    return cm_frame\n",
    "    \n",
    "    \n",
    "get_confusion_matrix(test_yhat, 'DEFAULT_NEXT_MONTH', 'p_DEFAULT_NEXT_MONTH', cutoff=best_cut)"
   ]
  },
  {
   "cell_type": "markdown",
   "metadata": {},
   "source": [
    "#### Report confusion matrices by `MARRIAGE` level "
   ]
  },
  {
   "cell_type": "code",
   "execution_count": 17,
   "metadata": {},
   "outputs": [],
   "source": [
    "marriage_dict = {0:'other', 1:'married', 2:'single', 3:'divorced'}\n",
    "test_yhat['MARRIAGE'] = test_yhat['MARRIAGE'].apply(lambda i: marriage_dict[i]) "
   ]
  },
  {
   "cell_type": "code",
   "execution_count": 18,
   "metadata": {},
   "outputs": [
    {
     "data": {
      "text/html": [
       "['married', 'single', 'divorced', 'other']"
      ],
      "text/plain": [
       "['married', 'single', 'divorced', 'other']"
      ]
     },
     "execution_count": 18,
     "metadata": {},
     "output_type": "execute_result"
    }
   ],
   "source": [
    "levels = list(test_yhat['MARRIAGE'].unique())\n",
    "levels"
   ]
  },
  {
   "cell_type": "markdown",
   "metadata": {},
   "source": [
    "#### Confusion matrix for `Marriage = married`"
   ]
  },
  {
   "cell_type": "code",
   "execution_count": 19,
   "metadata": {},
   "outputs": [
    {
     "name": "stdout",
     "output_type": "stream",
     "text": [
      "Confusion matrix by MARRIAGE=married\n"
     ]
    },
    {
     "data": {
      "text/html": [
       "<div>\n",
       "<style scoped>\n",
       "    .dataframe tbody tr th:only-of-type {\n",
       "        vertical-align: middle;\n",
       "    }\n",
       "\n",
       "    .dataframe tbody tr th {\n",
       "        vertical-align: top;\n",
       "    }\n",
       "\n",
       "    .dataframe thead th {\n",
       "        text-align: right;\n",
       "    }\n",
       "</style>\n",
       "<table border=\"1\" class=\"dataframe\">\n",
       "  <thead>\n",
       "    <tr style=\"text-align: right;\">\n",
       "      <th></th>\n",
       "      <th>actual: 1</th>\n",
       "      <th>actual: 0</th>\n",
       "    </tr>\n",
       "  </thead>\n",
       "  <tbody>\n",
       "    <tr>\n",
       "      <th>predicted: 1</th>\n",
       "      <td>527</td>\n",
       "      <td>450</td>\n",
       "    </tr>\n",
       "    <tr>\n",
       "      <th>predicted: 0</th>\n",
       "      <td>453</td>\n",
       "      <td>2660</td>\n",
       "    </tr>\n",
       "  </tbody>\n",
       "</table>\n",
       "</div>"
      ],
      "text/plain": [
       "             actual: 1 actual: 0\n",
       "predicted: 1       527       450\n",
       "predicted: 0       453      2660"
      ]
     },
     "execution_count": 19,
     "metadata": {},
     "output_type": "execute_result"
    }
   ],
   "source": [
    "married_cm = get_confusion_matrix(test_yhat, 'DEFAULT_NEXT_MONTH', 'p_DEFAULT_NEXT_MONTH', by='MARRIAGE', level='married', cutoff=best_cut)\n",
    "married_cm"
   ]
  },
  {
   "cell_type": "markdown",
   "metadata": {},
   "source": [
    "#### Confusion matrix for `Marriage = single`"
   ]
  },
  {
   "cell_type": "code",
   "execution_count": 20,
   "metadata": {},
   "outputs": [
    {
     "name": "stdout",
     "output_type": "stream",
     "text": [
      "Confusion matrix by MARRIAGE=single\n"
     ]
    },
    {
     "data": {
      "text/html": [
       "<div>\n",
       "<style scoped>\n",
       "    .dataframe tbody tr th:only-of-type {\n",
       "        vertical-align: middle;\n",
       "    }\n",
       "\n",
       "    .dataframe tbody tr th {\n",
       "        vertical-align: top;\n",
       "    }\n",
       "\n",
       "    .dataframe thead th {\n",
       "        text-align: right;\n",
       "    }\n",
       "</style>\n",
       "<table border=\"1\" class=\"dataframe\">\n",
       "  <thead>\n",
       "    <tr style=\"text-align: right;\">\n",
       "      <th></th>\n",
       "      <th>actual: 1</th>\n",
       "      <th>actual: 0</th>\n",
       "    </tr>\n",
       "  </thead>\n",
       "  <tbody>\n",
       "    <tr>\n",
       "      <th>predicted: 1</th>\n",
       "      <td>545</td>\n",
       "      <td>457</td>\n",
       "    </tr>\n",
       "    <tr>\n",
       "      <th>predicted: 0</th>\n",
       "      <td>481</td>\n",
       "      <td>3256</td>\n",
       "    </tr>\n",
       "  </tbody>\n",
       "</table>\n",
       "</div>"
      ],
      "text/plain": [
       "             actual: 1 actual: 0\n",
       "predicted: 1       545       457\n",
       "predicted: 0       481      3256"
      ]
     },
     "execution_count": 20,
     "metadata": {},
     "output_type": "execute_result"
    }
   ],
   "source": [
    "single_cm = get_confusion_matrix(test_yhat, 'DEFAULT_NEXT_MONTH', 'p_DEFAULT_NEXT_MONTH', by='MARRIAGE', level='single', cutoff=best_cut)\n",
    "single_cm"
   ]
  },
  {
   "cell_type": "markdown",
   "metadata": {},
   "source": [
    "#### Confusion matrix for `Marriage = divorced`"
   ]
  },
  {
   "cell_type": "code",
   "execution_count": 21,
   "metadata": {},
   "outputs": [
    {
     "name": "stdout",
     "output_type": "stream",
     "text": [
      "Confusion matrix by MARRIAGE=divorced\n"
     ]
    },
    {
     "data": {
      "text/html": [
       "<div>\n",
       "<style scoped>\n",
       "    .dataframe tbody tr th:only-of-type {\n",
       "        vertical-align: middle;\n",
       "    }\n",
       "\n",
       "    .dataframe tbody tr th {\n",
       "        vertical-align: top;\n",
       "    }\n",
       "\n",
       "    .dataframe thead th {\n",
       "        text-align: right;\n",
       "    }\n",
       "</style>\n",
       "<table border=\"1\" class=\"dataframe\">\n",
       "  <thead>\n",
       "    <tr style=\"text-align: right;\">\n",
       "      <th></th>\n",
       "      <th>actual: 1</th>\n",
       "      <th>actual: 0</th>\n",
       "    </tr>\n",
       "  </thead>\n",
       "  <tbody>\n",
       "    <tr>\n",
       "      <th>predicted: 1</th>\n",
       "      <td>10</td>\n",
       "      <td>13</td>\n",
       "    </tr>\n",
       "    <tr>\n",
       "      <th>predicted: 0</th>\n",
       "      <td>13</td>\n",
       "      <td>59</td>\n",
       "    </tr>\n",
       "  </tbody>\n",
       "</table>\n",
       "</div>"
      ],
      "text/plain": [
       "             actual: 1 actual: 0\n",
       "predicted: 1        10        13\n",
       "predicted: 0        13        59"
      ]
     },
     "execution_count": 21,
     "metadata": {},
     "output_type": "execute_result"
    }
   ],
   "source": [
    "divorced_cm = get_confusion_matrix(test_yhat, 'DEFAULT_NEXT_MONTH', 'p_DEFAULT_NEXT_MONTH', by='MARRIAGE', level='divorced', cutoff=best_cut)\n",
    "divorced_cm"
   ]
  },
  {
   "cell_type": "markdown",
   "metadata": {},
   "source": [
    "#### Confusion matrix for `MARRIAGE = other`"
   ]
  },
  {
   "cell_type": "code",
   "execution_count": 22,
   "metadata": {},
   "outputs": [
    {
     "name": "stdout",
     "output_type": "stream",
     "text": [
      "Confusion matrix by MARRIAGE=other\n"
     ]
    },
    {
     "data": {
      "text/html": [
       "<div>\n",
       "<style scoped>\n",
       "    .dataframe tbody tr th:only-of-type {\n",
       "        vertical-align: middle;\n",
       "    }\n",
       "\n",
       "    .dataframe tbody tr th {\n",
       "        vertical-align: top;\n",
       "    }\n",
       "\n",
       "    .dataframe thead th {\n",
       "        text-align: right;\n",
       "    }\n",
       "</style>\n",
       "<table border=\"1\" class=\"dataframe\">\n",
       "  <thead>\n",
       "    <tr style=\"text-align: right;\">\n",
       "      <th></th>\n",
       "      <th>actual: 1</th>\n",
       "      <th>actual: 0</th>\n",
       "    </tr>\n",
       "  </thead>\n",
       "  <tbody>\n",
       "    <tr>\n",
       "      <th>predicted: 1</th>\n",
       "      <td>1</td>\n",
       "      <td>0</td>\n",
       "    </tr>\n",
       "    <tr>\n",
       "      <th>predicted: 0</th>\n",
       "      <td>2</td>\n",
       "      <td>13</td>\n",
       "    </tr>\n",
       "  </tbody>\n",
       "</table>\n",
       "</div>"
      ],
      "text/plain": [
       "             actual: 1 actual: 0\n",
       "predicted: 1         1         0\n",
       "predicted: 0         2        13"
      ]
     },
     "execution_count": 22,
     "metadata": {},
     "output_type": "execute_result"
    }
   ],
   "source": [
    "other_cm = get_confusion_matrix(test_yhat, 'DEFAULT_NEXT_MONTH', 'p_DEFAULT_NEXT_MONTH', by='MARRIAGE', level='other', cutoff=best_cut)\n",
    "other_cm"
   ]
  },
  {
   "cell_type": "markdown",
   "metadata": {},
   "source": [
    "# 5. Disparate Impact Analysis (DIA)"
   ]
  },
  {
   "cell_type": "markdown",
   "metadata": {},
   "source": [
    "To perform the following basic DIA many different values from the confusion matrices reflecting different prediction behavior are calculated. These metrics essentially help us understand the GBM's overall performance and how it behaves when predicting:\n",
    "\n",
    "* Default correctly\n",
    "* Non-default correctly\n",
    "* Default incorrectly (type I errors)\n",
    "* Non-default incorrectly (type II errors)\n",
    "\n",
    "In a real-life lending scenario, type I errors essentially amount to false accusations of financial impropriety and type II errors result in awarding loans to undeserving customers. Both types of errors can be costly to the lender too. Type I errors likely result in lost interest and fees. Type II errors often result in write-offs."
   ]
  },
  {
   "cell_type": "markdown",
   "metadata": {},
   "source": [
    "#### Dictionary of metrics used to assess group parity"
   ]
  },
  {
   "cell_type": "code",
   "execution_count": 23,
   "metadata": {},
   "outputs": [],
   "source": [
    "# represent metrics as dictionary for use later\n",
    "metric_dict = {\n",
    "\n",
    "#### overall performance\n",
    "'Adverse Impact': '(tp + fp) / (tp + tn + fp + fn)', # how often the model predicted default for each group   \n",
    "#'Prevalence': '(tp + fn) / (tp + tn +fp + fn)', # how much default actually happens for this group\n",
    "'Accuracy':   '(tp + tn) / (tp + tn +fp + fn)', # how often the model predicts default and non-default correctly for this group\n",
    "\n",
    "#### predicting default will happen\n",
    "# (correctly)\n",
    "'True Positive Rate': 'tp / (tp + fn)',  # out of the people in the group *that did* default, how many the model predicted *correctly* would default              \n",
    "'Precision':          'tp / (tp + fp)',  # out of the people in the group the model *predicted* would default, how many the model predicted *correctly* would default\n",
    "\n",
    "#### predicting default won't happen\n",
    "# (correctly)\n",
    "'Specificity':              'tn / (tn + fp)', # out of the people in the group *that did not* default, how many the model predicted *correctly* would not default\n",
    "'Negative Predicted Value': 'tn / (tn + fn)', # out of the people in the group the model *predicted* would not default, how many the model predicted *correctly* would not default  \n",
    "\n",
    "#### analyzing errors - type I\n",
    "# false accusations \n",
    "'False Positive Rate':  'fp / (tn + fp)', # out of the people in the group *that did not* default, how many the model predicted *incorrectly* would default\n",
    "'False Discovery Rate': 'fp / (tp + fp)', # out of the people in the group the model *predicted* would default, how many the model predicted *incorrectly* would default\n",
    "\n",
    "#### analyzing errors - type II\n",
    "# costly ommisions\n",
    "'False Negative Rate': 'fn / (tp + fn)', # out of the people in the group *that did* default, how many the model predicted *incorrectly* would not default\n",
    "'False Omissions Rate':'fn / (tn + fn)'  # out of the people in the group the model *predicted* would not default, how many the model predicted *incorrectly* would not default\n",
    "}    "
   ]
  },
  {
   "cell_type": "markdown",
   "metadata": {},
   "source": [
    "#### Utility function to translate metrics into Pandas statements"
   ]
  },
  {
   "cell_type": "code",
   "execution_count": 24,
   "metadata": {},
   "outputs": [],
   "source": [
    "# small utility function\n",
    "# translates abbreviated metric expressions into executable Python statements\n",
    "\n",
    "def cm_exp_parser(expression):\n",
    "    \n",
    "    # tp | fp       cm_dict[level].iat[0, 0] | cm_dict[level].iat[0, 1]\n",
    "    # -------  ==>  --------------------------------------------\n",
    "    # fn | tn       cm_dict[level].iat[1, 0] | cm_dict[level].iat[1, 1]\n",
    "\n",
    "    expression = expression.replace('tp', 'cm_dict[level].iat[0, 0]')\\\n",
    "                           .replace('fp', 'cm_dict[level].iat[0, 1]')\\\n",
    "                           .replace('fn', 'cm_dict[level].iat[1, 0]')\\\n",
    "                           .replace('tn', 'cm_dict[level].iat[1, 1]')\n",
    "\n",
    "    return expression\n"
   ]
  },
  {
   "cell_type": "markdown",
   "metadata": {},
   "source": [
    "#### Calculate and report group metrics"
   ]
  },
  {
   "cell_type": "code",
   "execution_count": 25,
   "metadata": {},
   "outputs": [
    {
     "data": {
      "text/html": [
       "<div>\n",
       "<style scoped>\n",
       "    .dataframe tbody tr th:only-of-type {\n",
       "        vertical-align: middle;\n",
       "    }\n",
       "\n",
       "    .dataframe tbody tr th {\n",
       "        vertical-align: top;\n",
       "    }\n",
       "\n",
       "    .dataframe thead th {\n",
       "        text-align: right;\n",
       "    }\n",
       "</style>\n",
       "<table border=\"1\" class=\"dataframe\">\n",
       "  <thead>\n",
       "    <tr style=\"text-align: right;\">\n",
       "      <th></th>\n",
       "      <th>Adverse Impact</th>\n",
       "      <th>Accuracy</th>\n",
       "      <th>True Positive Rate</th>\n",
       "      <th>Precision</th>\n",
       "      <th>Specificity</th>\n",
       "      <th>Negative Predicted Value</th>\n",
       "      <th>False Positive Rate</th>\n",
       "      <th>False Discovery Rate</th>\n",
       "      <th>False Negative Rate</th>\n",
       "      <th>False Omissions Rate</th>\n",
       "    </tr>\n",
       "  </thead>\n",
       "  <tbody>\n",
       "    <tr>\n",
       "      <th>married</th>\n",
       "      <td>0.238875</td>\n",
       "      <td>0.779218</td>\n",
       "      <td>0.537755</td>\n",
       "      <td>0.539406</td>\n",
       "      <td>0.855305</td>\n",
       "      <td>0.854481</td>\n",
       "      <td>0.144695</td>\n",
       "      <td>0.460594</td>\n",
       "      <td>0.462245</td>\n",
       "      <td>0.145519</td>\n",
       "    </tr>\n",
       "    <tr>\n",
       "      <th>single</th>\n",
       "      <td>0.211437</td>\n",
       "      <td>0.802068</td>\n",
       "      <td>0.531189</td>\n",
       "      <td>0.543912</td>\n",
       "      <td>0.876919</td>\n",
       "      <td>0.871287</td>\n",
       "      <td>0.123081</td>\n",
       "      <td>0.456088</td>\n",
       "      <td>0.468811</td>\n",
       "      <td>0.128713</td>\n",
       "    </tr>\n",
       "    <tr>\n",
       "      <th>divorced</th>\n",
       "      <td>0.242105</td>\n",
       "      <td>0.726316</td>\n",
       "      <td>0.434783</td>\n",
       "      <td>0.434783</td>\n",
       "      <td>0.819444</td>\n",
       "      <td>0.819444</td>\n",
       "      <td>0.180556</td>\n",
       "      <td>0.565217</td>\n",
       "      <td>0.565217</td>\n",
       "      <td>0.180556</td>\n",
       "    </tr>\n",
       "    <tr>\n",
       "      <th>other</th>\n",
       "      <td>0.062500</td>\n",
       "      <td>0.875000</td>\n",
       "      <td>0.333333</td>\n",
       "      <td>1.000000</td>\n",
       "      <td>1.000000</td>\n",
       "      <td>0.866667</td>\n",
       "      <td>0.000000</td>\n",
       "      <td>0.000000</td>\n",
       "      <td>0.666667</td>\n",
       "      <td>0.133333</td>\n",
       "    </tr>\n",
       "  </tbody>\n",
       "</table>\n",
       "</div>"
      ],
      "text/plain": [
       "          Adverse Impact  Accuracy  True Positive Rate  Precision  \\\n",
       "married         0.238875  0.779218            0.537755   0.539406   \n",
       "single          0.211437  0.802068            0.531189   0.543912   \n",
       "divorced        0.242105  0.726316            0.434783   0.434783   \n",
       "other           0.062500  0.875000            0.333333   1.000000   \n",
       "\n",
       "          Specificity  Negative Predicted Value  False Positive Rate  \\\n",
       "married      0.855305                  0.854481             0.144695   \n",
       "single       0.876919                  0.871287             0.123081   \n",
       "divorced     0.819444                  0.819444             0.180556   \n",
       "other        1.000000                  0.866667             0.000000   \n",
       "\n",
       "          False Discovery Rate  False Negative Rate  False Omissions Rate  \n",
       "married               0.460594             0.462245              0.145519  \n",
       "single                0.456088             0.468811              0.128713  \n",
       "divorced              0.565217             0.565217              0.180556  \n",
       "other                 0.000000             0.666667              0.133333  "
      ]
     },
     "execution_count": 25,
     "metadata": {},
     "output_type": "execute_result"
    }
   ],
   "source": [
    "# initialize dict of confusion matrices and corresponding rows of dataframe\n",
    "cm_dict = {'other': other_cm, \n",
    "           'married': married_cm, \n",
    "           'single': single_cm, \n",
    "           'divorced': divorced_cm} \n",
    "\n",
    "metrics_frame = pd.DataFrame(index=levels) # frame for metrics\n",
    "\n",
    "# nested loop through:\n",
    "# - marriage statuses\n",
    "# - metrics \n",
    "for level in levels:\n",
    "    for metric in metric_dict.keys():\n",
    "              \n",
    "        # parse metric expressions into executable pandas statements\n",
    "        expression = cm_exp_parser(metric_dict[metric])\n",
    "\n",
    "        # dynamically evaluate metrics to avoid code duplication\n",
    "        metrics_frame.loc[level, metric] = eval(expression)  \n",
    "\n",
    "# display results                \n",
    "metrics_frame"
   ]
  },
  {
   "cell_type": "markdown",
   "metadata": {},
   "source": [
    "#### Calculate and report disparity"
   ]
  },
  {
   "cell_type": "code",
   "execution_count": 26,
   "metadata": {},
   "outputs": [
    {
     "data": {
      "text/html": [
       "<style  type=\"text/css\" >\n",
       "    #T_7dd90ab8_8a07_11e9_a987_02421cf4aecarow0_col0 {\n",
       "            color:  blue;\n",
       "        }    #T_7dd90ab8_8a07_11e9_a987_02421cf4aecarow0_col1 {\n",
       "            color:  blue;\n",
       "        }    #T_7dd90ab8_8a07_11e9_a987_02421cf4aecarow0_col2 {\n",
       "            color:  blue;\n",
       "        }    #T_7dd90ab8_8a07_11e9_a987_02421cf4aecarow0_col3 {\n",
       "            color:  blue;\n",
       "        }    #T_7dd90ab8_8a07_11e9_a987_02421cf4aecarow0_col4 {\n",
       "            color:  blue;\n",
       "        }    #T_7dd90ab8_8a07_11e9_a987_02421cf4aecarow0_col5 {\n",
       "            color:  blue;\n",
       "        }    #T_7dd90ab8_8a07_11e9_a987_02421cf4aecarow0_col6 {\n",
       "            color:  blue;\n",
       "        }    #T_7dd90ab8_8a07_11e9_a987_02421cf4aecarow0_col7 {\n",
       "            color:  blue;\n",
       "        }    #T_7dd90ab8_8a07_11e9_a987_02421cf4aecarow0_col8 {\n",
       "            color:  blue;\n",
       "        }    #T_7dd90ab8_8a07_11e9_a987_02421cf4aecarow0_col9 {\n",
       "            color:  blue;\n",
       "        }    #T_7dd90ab8_8a07_11e9_a987_02421cf4aecarow1_col0 {\n",
       "            color:  blue;\n",
       "        }    #T_7dd90ab8_8a07_11e9_a987_02421cf4aecarow1_col1 {\n",
       "            color:  blue;\n",
       "        }    #T_7dd90ab8_8a07_11e9_a987_02421cf4aecarow1_col2 {\n",
       "            color:  blue;\n",
       "        }    #T_7dd90ab8_8a07_11e9_a987_02421cf4aecarow1_col3 {\n",
       "            color:  blue;\n",
       "        }    #T_7dd90ab8_8a07_11e9_a987_02421cf4aecarow1_col4 {\n",
       "            color:  blue;\n",
       "        }    #T_7dd90ab8_8a07_11e9_a987_02421cf4aecarow1_col5 {\n",
       "            color:  blue;\n",
       "        }    #T_7dd90ab8_8a07_11e9_a987_02421cf4aecarow1_col6 {\n",
       "            color:  blue;\n",
       "        }    #T_7dd90ab8_8a07_11e9_a987_02421cf4aecarow1_col7 {\n",
       "            color:  blue;\n",
       "        }    #T_7dd90ab8_8a07_11e9_a987_02421cf4aecarow1_col8 {\n",
       "            color:  blue;\n",
       "        }    #T_7dd90ab8_8a07_11e9_a987_02421cf4aecarow1_col9 {\n",
       "            color:  blue;\n",
       "        }    #T_7dd90ab8_8a07_11e9_a987_02421cf4aecarow2_col0 {\n",
       "            color:  blue;\n",
       "        }    #T_7dd90ab8_8a07_11e9_a987_02421cf4aecarow2_col1 {\n",
       "            color:  blue;\n",
       "        }    #T_7dd90ab8_8a07_11e9_a987_02421cf4aecarow2_col2 {\n",
       "            color:  blue;\n",
       "        }    #T_7dd90ab8_8a07_11e9_a987_02421cf4aecarow2_col3 {\n",
       "            color:  blue;\n",
       "        }    #T_7dd90ab8_8a07_11e9_a987_02421cf4aecarow2_col4 {\n",
       "            color:  blue;\n",
       "        }    #T_7dd90ab8_8a07_11e9_a987_02421cf4aecarow2_col5 {\n",
       "            color:  blue;\n",
       "        }    #T_7dd90ab8_8a07_11e9_a987_02421cf4aecarow2_col6 {\n",
       "            color:  blue;\n",
       "        }    #T_7dd90ab8_8a07_11e9_a987_02421cf4aecarow2_col7 {\n",
       "            color:  blue;\n",
       "        }    #T_7dd90ab8_8a07_11e9_a987_02421cf4aecarow2_col8 {\n",
       "            color:  blue;\n",
       "        }    #T_7dd90ab8_8a07_11e9_a987_02421cf4aecarow2_col9 {\n",
       "            color:  blue;\n",
       "        }    #T_7dd90ab8_8a07_11e9_a987_02421cf4aecarow3_col0 {\n",
       "            color:  red;\n",
       "        }    #T_7dd90ab8_8a07_11e9_a987_02421cf4aecarow3_col1 {\n",
       "            color:  blue;\n",
       "        }    #T_7dd90ab8_8a07_11e9_a987_02421cf4aecarow3_col2 {\n",
       "            color:  red;\n",
       "        }    #T_7dd90ab8_8a07_11e9_a987_02421cf4aecarow3_col3 {\n",
       "            color:  red;\n",
       "        }    #T_7dd90ab8_8a07_11e9_a987_02421cf4aecarow3_col4 {\n",
       "            color:  blue;\n",
       "        }    #T_7dd90ab8_8a07_11e9_a987_02421cf4aecarow3_col5 {\n",
       "            color:  blue;\n",
       "        }    #T_7dd90ab8_8a07_11e9_a987_02421cf4aecarow3_col6 {\n",
       "            color:  red;\n",
       "        }    #T_7dd90ab8_8a07_11e9_a987_02421cf4aecarow3_col7 {\n",
       "            color:  red;\n",
       "        }    #T_7dd90ab8_8a07_11e9_a987_02421cf4aecarow3_col8 {\n",
       "            color:  red;\n",
       "        }    #T_7dd90ab8_8a07_11e9_a987_02421cf4aecarow3_col9 {\n",
       "            color:  blue;\n",
       "        }</style>  \n",
       "<table id=\"T_7dd90ab8_8a07_11e9_a987_02421cf4aeca\" > \n",
       "<thead>    <tr> \n",
       "        <th class=\"blank level0\" ></th> \n",
       "        <th class=\"col_heading level0 col0\" >Adverse Impact Disparity</th> \n",
       "        <th class=\"col_heading level0 col1\" >Accuracy Disparity</th> \n",
       "        <th class=\"col_heading level0 col2\" >True Positive Rate Disparity</th> \n",
       "        <th class=\"col_heading level0 col3\" >Precision Disparity</th> \n",
       "        <th class=\"col_heading level0 col4\" >Specificity Disparity</th> \n",
       "        <th class=\"col_heading level0 col5\" >Negative Predicted Value Disparity</th> \n",
       "        <th class=\"col_heading level0 col6\" >False Positive Rate Disparity</th> \n",
       "        <th class=\"col_heading level0 col7\" >False Discovery Rate Disparity</th> \n",
       "        <th class=\"col_heading level0 col8\" >False Negative Rate Disparity</th> \n",
       "        <th class=\"col_heading level0 col9\" >False Omissions Rate Disparity</th> \n",
       "    </tr></thead> \n",
       "<tbody>    <tr> \n",
       "        <th id=\"T_7dd90ab8_8a07_11e9_a987_02421cf4aecalevel0_row0\" class=\"row_heading level0 row0\" >married</th> \n",
       "        <td id=\"T_7dd90ab8_8a07_11e9_a987_02421cf4aecarow0_col0\" class=\"data row0 col0\" >1</td> \n",
       "        <td id=\"T_7dd90ab8_8a07_11e9_a987_02421cf4aecarow0_col1\" class=\"data row0 col1\" >1</td> \n",
       "        <td id=\"T_7dd90ab8_8a07_11e9_a987_02421cf4aecarow0_col2\" class=\"data row0 col2\" >1</td> \n",
       "        <td id=\"T_7dd90ab8_8a07_11e9_a987_02421cf4aecarow0_col3\" class=\"data row0 col3\" >1</td> \n",
       "        <td id=\"T_7dd90ab8_8a07_11e9_a987_02421cf4aecarow0_col4\" class=\"data row0 col4\" >1</td> \n",
       "        <td id=\"T_7dd90ab8_8a07_11e9_a987_02421cf4aecarow0_col5\" class=\"data row0 col5\" >1</td> \n",
       "        <td id=\"T_7dd90ab8_8a07_11e9_a987_02421cf4aecarow0_col6\" class=\"data row0 col6\" >1</td> \n",
       "        <td id=\"T_7dd90ab8_8a07_11e9_a987_02421cf4aecarow0_col7\" class=\"data row0 col7\" >1</td> \n",
       "        <td id=\"T_7dd90ab8_8a07_11e9_a987_02421cf4aecarow0_col8\" class=\"data row0 col8\" >1</td> \n",
       "        <td id=\"T_7dd90ab8_8a07_11e9_a987_02421cf4aecarow0_col9\" class=\"data row0 col9\" >1</td> \n",
       "    </tr>    <tr> \n",
       "        <th id=\"T_7dd90ab8_8a07_11e9_a987_02421cf4aecalevel0_row1\" class=\"row_heading level0 row1\" >single</th> \n",
       "        <td id=\"T_7dd90ab8_8a07_11e9_a987_02421cf4aecarow1_col0\" class=\"data row1 col0\" >0.885135</td> \n",
       "        <td id=\"T_7dd90ab8_8a07_11e9_a987_02421cf4aecarow1_col1\" class=\"data row1 col1\" >1.02932</td> \n",
       "        <td id=\"T_7dd90ab8_8a07_11e9_a987_02421cf4aecarow1_col2\" class=\"data row1 col2\" >0.98779</td> \n",
       "        <td id=\"T_7dd90ab8_8a07_11e9_a987_02421cf4aecarow1_col3\" class=\"data row1 col3\" >1.00835</td> \n",
       "        <td id=\"T_7dd90ab8_8a07_11e9_a987_02421cf4aecarow1_col4\" class=\"data row1 col4\" >1.02527</td> \n",
       "        <td id=\"T_7dd90ab8_8a07_11e9_a987_02421cf4aecarow1_col5\" class=\"data row1 col5\" >1.01967</td> \n",
       "        <td id=\"T_7dd90ab8_8a07_11e9_a987_02421cf4aecarow1_col6\" class=\"data row1 col6\" >0.850627</td> \n",
       "        <td id=\"T_7dd90ab8_8a07_11e9_a987_02421cf4aecarow1_col7\" class=\"data row1 col7\" >0.990217</td> \n",
       "        <td id=\"T_7dd90ab8_8a07_11e9_a987_02421cf4aecarow1_col8\" class=\"data row1 col8\" >1.0142</td> \n",
       "        <td id=\"T_7dd90ab8_8a07_11e9_a987_02421cf4aecarow1_col9\" class=\"data row1 col9\" >0.88451</td> \n",
       "    </tr>    <tr> \n",
       "        <th id=\"T_7dd90ab8_8a07_11e9_a987_02421cf4aecalevel0_row2\" class=\"row_heading level0 row2\" >divorced</th> \n",
       "        <td id=\"T_7dd90ab8_8a07_11e9_a987_02421cf4aecarow2_col0\" class=\"data row2 col0\" >1.01352</td> \n",
       "        <td id=\"T_7dd90ab8_8a07_11e9_a987_02421cf4aecarow2_col1\" class=\"data row2 col1\" >0.932109</td> \n",
       "        <td id=\"T_7dd90ab8_8a07_11e9_a987_02421cf4aecarow2_col2\" class=\"data row2 col2\" >0.808514</td> \n",
       "        <td id=\"T_7dd90ab8_8a07_11e9_a987_02421cf4aecarow2_col3\" class=\"data row2 col3\" >0.806039</td> \n",
       "        <td id=\"T_7dd90ab8_8a07_11e9_a987_02421cf4aecarow2_col4\" class=\"data row2 col4\" >0.958072</td> \n",
       "        <td id=\"T_7dd90ab8_8a07_11e9_a987_02421cf4aecarow2_col5\" class=\"data row2 col5\" >0.958996</td> \n",
       "        <td id=\"T_7dd90ab8_8a07_11e9_a987_02421cf4aecarow2_col6\" class=\"data row2 col6\" >1.24784</td> \n",
       "        <td id=\"T_7dd90ab8_8a07_11e9_a987_02421cf4aecarow2_col7\" class=\"data row2 col7\" >1.22715</td> \n",
       "        <td id=\"T_7dd90ab8_8a07_11e9_a987_02421cf4aecarow2_col8\" class=\"data row2 col8\" >1.22277</td> \n",
       "        <td id=\"T_7dd90ab8_8a07_11e9_a987_02421cf4aecarow2_col9\" class=\"data row2 col9\" >1.24077</td> \n",
       "    </tr>    <tr> \n",
       "        <th id=\"T_7dd90ab8_8a07_11e9_a987_02421cf4aecalevel0_row3\" class=\"row_heading level0 row3\" >other</th> \n",
       "        <td id=\"T_7dd90ab8_8a07_11e9_a987_02421cf4aecarow3_col0\" class=\"data row3 col0\" >0.261643</td> \n",
       "        <td id=\"T_7dd90ab8_8a07_11e9_a987_02421cf4aecarow3_col1\" class=\"data row3 col1\" >1.12292</td> \n",
       "        <td id=\"T_7dd90ab8_8a07_11e9_a987_02421cf4aecarow3_col2\" class=\"data row3 col2\" >0.619861</td> \n",
       "        <td id=\"T_7dd90ab8_8a07_11e9_a987_02421cf4aecarow3_col3\" class=\"data row3 col3\" >1.85389</td> \n",
       "        <td id=\"T_7dd90ab8_8a07_11e9_a987_02421cf4aecarow3_col4\" class=\"data row3 col4\" >1.16917</td> \n",
       "        <td id=\"T_7dd90ab8_8a07_11e9_a987_02421cf4aecarow3_col5\" class=\"data row3 col5\" >1.01426</td> \n",
       "        <td id=\"T_7dd90ab8_8a07_11e9_a987_02421cf4aecarow3_col6\" class=\"data row3 col6\" >0</td> \n",
       "        <td id=\"T_7dd90ab8_8a07_11e9_a987_02421cf4aecarow3_col7\" class=\"data row3 col7\" >0</td> \n",
       "        <td id=\"T_7dd90ab8_8a07_11e9_a987_02421cf4aecarow3_col8\" class=\"data row3 col8\" >1.44224</td> \n",
       "        <td id=\"T_7dd90ab8_8a07_11e9_a987_02421cf4aecarow3_col9\" class=\"data row3 col9\" >0.916262</td> \n",
       "    </tr></tbody> \n",
       "</table> "
      ],
      "text/plain": [
       "<pandas.io.formats.style.Styler at 0x7f09117f7c88>"
      ]
     },
     "execution_count": 26,
     "metadata": {},
     "output_type": "execute_result"
    }
   ],
   "source": [
    "ref_level = 'married' # user-defined reference level\n",
    "\n",
    "parity_threshold_low = 0.8    # user-defined low threshold value\n",
    "parity_threshold_hi = 1.25    # user-defined high threshold value\n",
    "\n",
    "# init frame to store disparity measures\n",
    "disp_frame = pd.DataFrame(index=levels)\n",
    "\n",
    "# compare all metrics to reference level\n",
    "disp_frame = metrics_frame/metrics_frame.loc[ref_level, :]\n",
    "\n",
    "# change column names\n",
    "disp_frame.columns=[col + ' Disparity' for col in metrics_frame.columns]\n",
    "\n",
    "# small utility function to format pandas table output\n",
    "def disparate_red(val):\n",
    "    \n",
    "    color = 'blue' if (parity_threshold_low < val < parity_threshold_hi) else 'red'\n",
    "    return 'color: %s' % color \n",
    "\n",
    "# display results\n",
    "disp_frame.style.applymap(disparate_red)"
   ]
  },
  {
   "cell_type": "markdown",
   "metadata": {},
   "source": [
    "#### Assess and report group parity\n",
    "A binary indication of parity for metrics is reported by simply checking whether disparity values are within the user-defined thresholds. Further parity indicators are defined as combinations of other disparity values:\n",
    "\n",
    "* Type I Parity: Fairness in both FDR Parity and FPR Parity\n",
    "* Type II Parity: Fairness in both FOR Parity and FNR Parity\n",
    "* Equalized Odds: Fairness in both FPR Parity and TPR Parity\n",
    "* Supervised Fairness: Fairness in both Type I and Type II Parity\n",
    "* Overall Fairness: Fairness across all parities for all metrics"
   ]
  },
  {
   "cell_type": "code",
   "execution_count": 27,
   "metadata": {},
   "outputs": [
    {
     "data": {
      "text/html": [
       "<style  type=\"text/css\" >\n",
       "    #T_7dd90ab9_8a07_11e9_a987_02421cf4aecarow0_col0 {\n",
       "            color:  blue;\n",
       "        }    #T_7dd90ab9_8a07_11e9_a987_02421cf4aecarow0_col1 {\n",
       "            color:  blue;\n",
       "        }    #T_7dd90ab9_8a07_11e9_a987_02421cf4aecarow0_col2 {\n",
       "            color:  blue;\n",
       "        }    #T_7dd90ab9_8a07_11e9_a987_02421cf4aecarow0_col3 {\n",
       "            color:  blue;\n",
       "        }    #T_7dd90ab9_8a07_11e9_a987_02421cf4aecarow0_col4 {\n",
       "            color:  blue;\n",
       "        }    #T_7dd90ab9_8a07_11e9_a987_02421cf4aecarow0_col5 {\n",
       "            color:  blue;\n",
       "        }    #T_7dd90ab9_8a07_11e9_a987_02421cf4aecarow0_col6 {\n",
       "            color:  blue;\n",
       "        }    #T_7dd90ab9_8a07_11e9_a987_02421cf4aecarow0_col7 {\n",
       "            color:  blue;\n",
       "        }    #T_7dd90ab9_8a07_11e9_a987_02421cf4aecarow0_col8 {\n",
       "            color:  blue;\n",
       "        }    #T_7dd90ab9_8a07_11e9_a987_02421cf4aecarow0_col9 {\n",
       "            color:  blue;\n",
       "        }    #T_7dd90ab9_8a07_11e9_a987_02421cf4aecarow0_col10 {\n",
       "            color:  blue;\n",
       "        }    #T_7dd90ab9_8a07_11e9_a987_02421cf4aecarow0_col11 {\n",
       "            color:  blue;\n",
       "        }    #T_7dd90ab9_8a07_11e9_a987_02421cf4aecarow0_col12 {\n",
       "            color:  blue;\n",
       "        }    #T_7dd90ab9_8a07_11e9_a987_02421cf4aecarow0_col13 {\n",
       "            color:  blue;\n",
       "        }    #T_7dd90ab9_8a07_11e9_a987_02421cf4aecarow0_col14 {\n",
       "            color:  blue;\n",
       "        }    #T_7dd90ab9_8a07_11e9_a987_02421cf4aecarow1_col0 {\n",
       "            color:  blue;\n",
       "        }    #T_7dd90ab9_8a07_11e9_a987_02421cf4aecarow1_col1 {\n",
       "            color:  blue;\n",
       "        }    #T_7dd90ab9_8a07_11e9_a987_02421cf4aecarow1_col2 {\n",
       "            color:  blue;\n",
       "        }    #T_7dd90ab9_8a07_11e9_a987_02421cf4aecarow1_col3 {\n",
       "            color:  blue;\n",
       "        }    #T_7dd90ab9_8a07_11e9_a987_02421cf4aecarow1_col4 {\n",
       "            color:  blue;\n",
       "        }    #T_7dd90ab9_8a07_11e9_a987_02421cf4aecarow1_col5 {\n",
       "            color:  blue;\n",
       "        }    #T_7dd90ab9_8a07_11e9_a987_02421cf4aecarow1_col6 {\n",
       "            color:  blue;\n",
       "        }    #T_7dd90ab9_8a07_11e9_a987_02421cf4aecarow1_col7 {\n",
       "            color:  blue;\n",
       "        }    #T_7dd90ab9_8a07_11e9_a987_02421cf4aecarow1_col8 {\n",
       "            color:  blue;\n",
       "        }    #T_7dd90ab9_8a07_11e9_a987_02421cf4aecarow1_col9 {\n",
       "            color:  blue;\n",
       "        }    #T_7dd90ab9_8a07_11e9_a987_02421cf4aecarow1_col10 {\n",
       "            color:  blue;\n",
       "        }    #T_7dd90ab9_8a07_11e9_a987_02421cf4aecarow1_col11 {\n",
       "            color:  blue;\n",
       "        }    #T_7dd90ab9_8a07_11e9_a987_02421cf4aecarow1_col12 {\n",
       "            color:  blue;\n",
       "        }    #T_7dd90ab9_8a07_11e9_a987_02421cf4aecarow1_col13 {\n",
       "            color:  blue;\n",
       "        }    #T_7dd90ab9_8a07_11e9_a987_02421cf4aecarow1_col14 {\n",
       "            color:  blue;\n",
       "        }    #T_7dd90ab9_8a07_11e9_a987_02421cf4aecarow2_col0 {\n",
       "            color:  blue;\n",
       "        }    #T_7dd90ab9_8a07_11e9_a987_02421cf4aecarow2_col1 {\n",
       "            color:  blue;\n",
       "        }    #T_7dd90ab9_8a07_11e9_a987_02421cf4aecarow2_col2 {\n",
       "            color:  blue;\n",
       "        }    #T_7dd90ab9_8a07_11e9_a987_02421cf4aecarow2_col3 {\n",
       "            color:  blue;\n",
       "        }    #T_7dd90ab9_8a07_11e9_a987_02421cf4aecarow2_col4 {\n",
       "            color:  blue;\n",
       "        }    #T_7dd90ab9_8a07_11e9_a987_02421cf4aecarow2_col5 {\n",
       "            color:  blue;\n",
       "        }    #T_7dd90ab9_8a07_11e9_a987_02421cf4aecarow2_col6 {\n",
       "            color:  blue;\n",
       "        }    #T_7dd90ab9_8a07_11e9_a987_02421cf4aecarow2_col7 {\n",
       "            color:  blue;\n",
       "        }    #T_7dd90ab9_8a07_11e9_a987_02421cf4aecarow2_col8 {\n",
       "            color:  blue;\n",
       "        }    #T_7dd90ab9_8a07_11e9_a987_02421cf4aecarow2_col9 {\n",
       "            color:  blue;\n",
       "        }    #T_7dd90ab9_8a07_11e9_a987_02421cf4aecarow2_col10 {\n",
       "            color:  blue;\n",
       "        }    #T_7dd90ab9_8a07_11e9_a987_02421cf4aecarow2_col11 {\n",
       "            color:  blue;\n",
       "        }    #T_7dd90ab9_8a07_11e9_a987_02421cf4aecarow2_col12 {\n",
       "            color:  blue;\n",
       "        }    #T_7dd90ab9_8a07_11e9_a987_02421cf4aecarow2_col13 {\n",
       "            color:  blue;\n",
       "        }    #T_7dd90ab9_8a07_11e9_a987_02421cf4aecarow2_col14 {\n",
       "            color:  blue;\n",
       "        }    #T_7dd90ab9_8a07_11e9_a987_02421cf4aecarow3_col0 {\n",
       "            color:  red;\n",
       "        }    #T_7dd90ab9_8a07_11e9_a987_02421cf4aecarow3_col1 {\n",
       "            color:  blue;\n",
       "        }    #T_7dd90ab9_8a07_11e9_a987_02421cf4aecarow3_col2 {\n",
       "            color:  red;\n",
       "        }    #T_7dd90ab9_8a07_11e9_a987_02421cf4aecarow3_col3 {\n",
       "            color:  red;\n",
       "        }    #T_7dd90ab9_8a07_11e9_a987_02421cf4aecarow3_col4 {\n",
       "            color:  blue;\n",
       "        }    #T_7dd90ab9_8a07_11e9_a987_02421cf4aecarow3_col5 {\n",
       "            color:  blue;\n",
       "        }    #T_7dd90ab9_8a07_11e9_a987_02421cf4aecarow3_col6 {\n",
       "            color:  red;\n",
       "        }    #T_7dd90ab9_8a07_11e9_a987_02421cf4aecarow3_col7 {\n",
       "            color:  red;\n",
       "        }    #T_7dd90ab9_8a07_11e9_a987_02421cf4aecarow3_col8 {\n",
       "            color:  red;\n",
       "        }    #T_7dd90ab9_8a07_11e9_a987_02421cf4aecarow3_col9 {\n",
       "            color:  blue;\n",
       "        }    #T_7dd90ab9_8a07_11e9_a987_02421cf4aecarow3_col10 {\n",
       "            color:  red;\n",
       "        }    #T_7dd90ab9_8a07_11e9_a987_02421cf4aecarow3_col11 {\n",
       "            color:  red;\n",
       "        }    #T_7dd90ab9_8a07_11e9_a987_02421cf4aecarow3_col12 {\n",
       "            color:  red;\n",
       "        }    #T_7dd90ab9_8a07_11e9_a987_02421cf4aecarow3_col13 {\n",
       "            color:  red;\n",
       "        }    #T_7dd90ab9_8a07_11e9_a987_02421cf4aecarow3_col14 {\n",
       "            color:  red;\n",
       "        }    #T_7dd90ab9_8a07_11e9_a987_02421cf4aecarow4_col0 {\n",
       "            color:  red;\n",
       "        }    #T_7dd90ab9_8a07_11e9_a987_02421cf4aecarow4_col1 {\n",
       "            color:  blue;\n",
       "        }    #T_7dd90ab9_8a07_11e9_a987_02421cf4aecarow4_col2 {\n",
       "            color:  red;\n",
       "        }    #T_7dd90ab9_8a07_11e9_a987_02421cf4aecarow4_col3 {\n",
       "            color:  red;\n",
       "        }    #T_7dd90ab9_8a07_11e9_a987_02421cf4aecarow4_col4 {\n",
       "            color:  blue;\n",
       "        }    #T_7dd90ab9_8a07_11e9_a987_02421cf4aecarow4_col5 {\n",
       "            color:  blue;\n",
       "        }    #T_7dd90ab9_8a07_11e9_a987_02421cf4aecarow4_col6 {\n",
       "            color:  red;\n",
       "        }    #T_7dd90ab9_8a07_11e9_a987_02421cf4aecarow4_col7 {\n",
       "            color:  red;\n",
       "        }    #T_7dd90ab9_8a07_11e9_a987_02421cf4aecarow4_col8 {\n",
       "            color:  red;\n",
       "        }    #T_7dd90ab9_8a07_11e9_a987_02421cf4aecarow4_col9 {\n",
       "            color:  blue;\n",
       "        }    #T_7dd90ab9_8a07_11e9_a987_02421cf4aecarow4_col10 {\n",
       "            color:  red;\n",
       "        }    #T_7dd90ab9_8a07_11e9_a987_02421cf4aecarow4_col11 {\n",
       "            color:  red;\n",
       "        }    #T_7dd90ab9_8a07_11e9_a987_02421cf4aecarow4_col12 {\n",
       "            color:  red;\n",
       "        }    #T_7dd90ab9_8a07_11e9_a987_02421cf4aecarow4_col13 {\n",
       "            color:  red;\n",
       "        }    #T_7dd90ab9_8a07_11e9_a987_02421cf4aecarow4_col14 {\n",
       "            color:  red;\n",
       "        }</style>  \n",
       "<table id=\"T_7dd90ab9_8a07_11e9_a987_02421cf4aeca\" > \n",
       "<thead>    <tr> \n",
       "        <th class=\"blank level0\" ></th> \n",
       "        <th class=\"col_heading level0 col0\" >Adverse Impact Parity</th> \n",
       "        <th class=\"col_heading level0 col1\" >Accuracy Parity</th> \n",
       "        <th class=\"col_heading level0 col2\" >True Positive Rate Parity</th> \n",
       "        <th class=\"col_heading level0 col3\" >Precision Parity</th> \n",
       "        <th class=\"col_heading level0 col4\" >Specificity Parity</th> \n",
       "        <th class=\"col_heading level0 col5\" >Negative Predicted Value Parity</th> \n",
       "        <th class=\"col_heading level0 col6\" >False Positive Rate Parity</th> \n",
       "        <th class=\"col_heading level0 col7\" >False Discovery Rate Parity</th> \n",
       "        <th class=\"col_heading level0 col8\" >False Negative Rate Parity</th> \n",
       "        <th class=\"col_heading level0 col9\" >False Omissions Rate Parity</th> \n",
       "        <th class=\"col_heading level0 col10\" >Type I Parity</th> \n",
       "        <th class=\"col_heading level0 col11\" >Type II Parity</th> \n",
       "        <th class=\"col_heading level0 col12\" >Equalized Odds</th> \n",
       "        <th class=\"col_heading level0 col13\" >Supervised Fairness</th> \n",
       "        <th class=\"col_heading level0 col14\" >Overall Fairness</th> \n",
       "    </tr></thead> \n",
       "<tbody>    <tr> \n",
       "        <th id=\"T_7dd90ab9_8a07_11e9_a987_02421cf4aecalevel0_row0\" class=\"row_heading level0 row0\" >married</th> \n",
       "        <td id=\"T_7dd90ab9_8a07_11e9_a987_02421cf4aecarow0_col0\" class=\"data row0 col0\" >True</td> \n",
       "        <td id=\"T_7dd90ab9_8a07_11e9_a987_02421cf4aecarow0_col1\" class=\"data row0 col1\" >True</td> \n",
       "        <td id=\"T_7dd90ab9_8a07_11e9_a987_02421cf4aecarow0_col2\" class=\"data row0 col2\" >True</td> \n",
       "        <td id=\"T_7dd90ab9_8a07_11e9_a987_02421cf4aecarow0_col3\" class=\"data row0 col3\" >True</td> \n",
       "        <td id=\"T_7dd90ab9_8a07_11e9_a987_02421cf4aecarow0_col4\" class=\"data row0 col4\" >True</td> \n",
       "        <td id=\"T_7dd90ab9_8a07_11e9_a987_02421cf4aecarow0_col5\" class=\"data row0 col5\" >True</td> \n",
       "        <td id=\"T_7dd90ab9_8a07_11e9_a987_02421cf4aecarow0_col6\" class=\"data row0 col6\" >True</td> \n",
       "        <td id=\"T_7dd90ab9_8a07_11e9_a987_02421cf4aecarow0_col7\" class=\"data row0 col7\" >True</td> \n",
       "        <td id=\"T_7dd90ab9_8a07_11e9_a987_02421cf4aecarow0_col8\" class=\"data row0 col8\" >True</td> \n",
       "        <td id=\"T_7dd90ab9_8a07_11e9_a987_02421cf4aecarow0_col9\" class=\"data row0 col9\" >True</td> \n",
       "        <td id=\"T_7dd90ab9_8a07_11e9_a987_02421cf4aecarow0_col10\" class=\"data row0 col10\" >True</td> \n",
       "        <td id=\"T_7dd90ab9_8a07_11e9_a987_02421cf4aecarow0_col11\" class=\"data row0 col11\" >True</td> \n",
       "        <td id=\"T_7dd90ab9_8a07_11e9_a987_02421cf4aecarow0_col12\" class=\"data row0 col12\" >True</td> \n",
       "        <td id=\"T_7dd90ab9_8a07_11e9_a987_02421cf4aecarow0_col13\" class=\"data row0 col13\" >True</td> \n",
       "        <td id=\"T_7dd90ab9_8a07_11e9_a987_02421cf4aecarow0_col14\" class=\"data row0 col14\" >True</td> \n",
       "    </tr>    <tr> \n",
       "        <th id=\"T_7dd90ab9_8a07_11e9_a987_02421cf4aecalevel0_row1\" class=\"row_heading level0 row1\" >single</th> \n",
       "        <td id=\"T_7dd90ab9_8a07_11e9_a987_02421cf4aecarow1_col0\" class=\"data row1 col0\" >True</td> \n",
       "        <td id=\"T_7dd90ab9_8a07_11e9_a987_02421cf4aecarow1_col1\" class=\"data row1 col1\" >True</td> \n",
       "        <td id=\"T_7dd90ab9_8a07_11e9_a987_02421cf4aecarow1_col2\" class=\"data row1 col2\" >True</td> \n",
       "        <td id=\"T_7dd90ab9_8a07_11e9_a987_02421cf4aecarow1_col3\" class=\"data row1 col3\" >True</td> \n",
       "        <td id=\"T_7dd90ab9_8a07_11e9_a987_02421cf4aecarow1_col4\" class=\"data row1 col4\" >True</td> \n",
       "        <td id=\"T_7dd90ab9_8a07_11e9_a987_02421cf4aecarow1_col5\" class=\"data row1 col5\" >True</td> \n",
       "        <td id=\"T_7dd90ab9_8a07_11e9_a987_02421cf4aecarow1_col6\" class=\"data row1 col6\" >True</td> \n",
       "        <td id=\"T_7dd90ab9_8a07_11e9_a987_02421cf4aecarow1_col7\" class=\"data row1 col7\" >True</td> \n",
       "        <td id=\"T_7dd90ab9_8a07_11e9_a987_02421cf4aecarow1_col8\" class=\"data row1 col8\" >True</td> \n",
       "        <td id=\"T_7dd90ab9_8a07_11e9_a987_02421cf4aecarow1_col9\" class=\"data row1 col9\" >True</td> \n",
       "        <td id=\"T_7dd90ab9_8a07_11e9_a987_02421cf4aecarow1_col10\" class=\"data row1 col10\" >True</td> \n",
       "        <td id=\"T_7dd90ab9_8a07_11e9_a987_02421cf4aecarow1_col11\" class=\"data row1 col11\" >True</td> \n",
       "        <td id=\"T_7dd90ab9_8a07_11e9_a987_02421cf4aecarow1_col12\" class=\"data row1 col12\" >True</td> \n",
       "        <td id=\"T_7dd90ab9_8a07_11e9_a987_02421cf4aecarow1_col13\" class=\"data row1 col13\" >True</td> \n",
       "        <td id=\"T_7dd90ab9_8a07_11e9_a987_02421cf4aecarow1_col14\" class=\"data row1 col14\" >True</td> \n",
       "    </tr>    <tr> \n",
       "        <th id=\"T_7dd90ab9_8a07_11e9_a987_02421cf4aecalevel0_row2\" class=\"row_heading level0 row2\" >divorced</th> \n",
       "        <td id=\"T_7dd90ab9_8a07_11e9_a987_02421cf4aecarow2_col0\" class=\"data row2 col0\" >True</td> \n",
       "        <td id=\"T_7dd90ab9_8a07_11e9_a987_02421cf4aecarow2_col1\" class=\"data row2 col1\" >True</td> \n",
       "        <td id=\"T_7dd90ab9_8a07_11e9_a987_02421cf4aecarow2_col2\" class=\"data row2 col2\" >True</td> \n",
       "        <td id=\"T_7dd90ab9_8a07_11e9_a987_02421cf4aecarow2_col3\" class=\"data row2 col3\" >True</td> \n",
       "        <td id=\"T_7dd90ab9_8a07_11e9_a987_02421cf4aecarow2_col4\" class=\"data row2 col4\" >True</td> \n",
       "        <td id=\"T_7dd90ab9_8a07_11e9_a987_02421cf4aecarow2_col5\" class=\"data row2 col5\" >True</td> \n",
       "        <td id=\"T_7dd90ab9_8a07_11e9_a987_02421cf4aecarow2_col6\" class=\"data row2 col6\" >True</td> \n",
       "        <td id=\"T_7dd90ab9_8a07_11e9_a987_02421cf4aecarow2_col7\" class=\"data row2 col7\" >True</td> \n",
       "        <td id=\"T_7dd90ab9_8a07_11e9_a987_02421cf4aecarow2_col8\" class=\"data row2 col8\" >True</td> \n",
       "        <td id=\"T_7dd90ab9_8a07_11e9_a987_02421cf4aecarow2_col9\" class=\"data row2 col9\" >True</td> \n",
       "        <td id=\"T_7dd90ab9_8a07_11e9_a987_02421cf4aecarow2_col10\" class=\"data row2 col10\" >True</td> \n",
       "        <td id=\"T_7dd90ab9_8a07_11e9_a987_02421cf4aecarow2_col11\" class=\"data row2 col11\" >True</td> \n",
       "        <td id=\"T_7dd90ab9_8a07_11e9_a987_02421cf4aecarow2_col12\" class=\"data row2 col12\" >True</td> \n",
       "        <td id=\"T_7dd90ab9_8a07_11e9_a987_02421cf4aecarow2_col13\" class=\"data row2 col13\" >True</td> \n",
       "        <td id=\"T_7dd90ab9_8a07_11e9_a987_02421cf4aecarow2_col14\" class=\"data row2 col14\" >True</td> \n",
       "    </tr>    <tr> \n",
       "        <th id=\"T_7dd90ab9_8a07_11e9_a987_02421cf4aecalevel0_row3\" class=\"row_heading level0 row3\" >other</th> \n",
       "        <td id=\"T_7dd90ab9_8a07_11e9_a987_02421cf4aecarow3_col0\" class=\"data row3 col0\" >False</td> \n",
       "        <td id=\"T_7dd90ab9_8a07_11e9_a987_02421cf4aecarow3_col1\" class=\"data row3 col1\" >True</td> \n",
       "        <td id=\"T_7dd90ab9_8a07_11e9_a987_02421cf4aecarow3_col2\" class=\"data row3 col2\" >False</td> \n",
       "        <td id=\"T_7dd90ab9_8a07_11e9_a987_02421cf4aecarow3_col3\" class=\"data row3 col3\" >False</td> \n",
       "        <td id=\"T_7dd90ab9_8a07_11e9_a987_02421cf4aecarow3_col4\" class=\"data row3 col4\" >True</td> \n",
       "        <td id=\"T_7dd90ab9_8a07_11e9_a987_02421cf4aecarow3_col5\" class=\"data row3 col5\" >True</td> \n",
       "        <td id=\"T_7dd90ab9_8a07_11e9_a987_02421cf4aecarow3_col6\" class=\"data row3 col6\" >False</td> \n",
       "        <td id=\"T_7dd90ab9_8a07_11e9_a987_02421cf4aecarow3_col7\" class=\"data row3 col7\" >False</td> \n",
       "        <td id=\"T_7dd90ab9_8a07_11e9_a987_02421cf4aecarow3_col8\" class=\"data row3 col8\" >False</td> \n",
       "        <td id=\"T_7dd90ab9_8a07_11e9_a987_02421cf4aecarow3_col9\" class=\"data row3 col9\" >True</td> \n",
       "        <td id=\"T_7dd90ab9_8a07_11e9_a987_02421cf4aecarow3_col10\" class=\"data row3 col10\" >False</td> \n",
       "        <td id=\"T_7dd90ab9_8a07_11e9_a987_02421cf4aecarow3_col11\" class=\"data row3 col11\" >False</td> \n",
       "        <td id=\"T_7dd90ab9_8a07_11e9_a987_02421cf4aecarow3_col12\" class=\"data row3 col12\" >False</td> \n",
       "        <td id=\"T_7dd90ab9_8a07_11e9_a987_02421cf4aecarow3_col13\" class=\"data row3 col13\" >False</td> \n",
       "        <td id=\"T_7dd90ab9_8a07_11e9_a987_02421cf4aecarow3_col14\" class=\"data row3 col14\" >False</td> \n",
       "    </tr>    <tr> \n",
       "        <th id=\"T_7dd90ab9_8a07_11e9_a987_02421cf4aecalevel0_row4\" class=\"row_heading level0 row4\" >all</th> \n",
       "        <td id=\"T_7dd90ab9_8a07_11e9_a987_02421cf4aecarow4_col0\" class=\"data row4 col0\" >False</td> \n",
       "        <td id=\"T_7dd90ab9_8a07_11e9_a987_02421cf4aecarow4_col1\" class=\"data row4 col1\" >True</td> \n",
       "        <td id=\"T_7dd90ab9_8a07_11e9_a987_02421cf4aecarow4_col2\" class=\"data row4 col2\" >False</td> \n",
       "        <td id=\"T_7dd90ab9_8a07_11e9_a987_02421cf4aecarow4_col3\" class=\"data row4 col3\" >False</td> \n",
       "        <td id=\"T_7dd90ab9_8a07_11e9_a987_02421cf4aecarow4_col4\" class=\"data row4 col4\" >True</td> \n",
       "        <td id=\"T_7dd90ab9_8a07_11e9_a987_02421cf4aecarow4_col5\" class=\"data row4 col5\" >True</td> \n",
       "        <td id=\"T_7dd90ab9_8a07_11e9_a987_02421cf4aecarow4_col6\" class=\"data row4 col6\" >False</td> \n",
       "        <td id=\"T_7dd90ab9_8a07_11e9_a987_02421cf4aecarow4_col7\" class=\"data row4 col7\" >False</td> \n",
       "        <td id=\"T_7dd90ab9_8a07_11e9_a987_02421cf4aecarow4_col8\" class=\"data row4 col8\" >False</td> \n",
       "        <td id=\"T_7dd90ab9_8a07_11e9_a987_02421cf4aecarow4_col9\" class=\"data row4 col9\" >True</td> \n",
       "        <td id=\"T_7dd90ab9_8a07_11e9_a987_02421cf4aecarow4_col10\" class=\"data row4 col10\" >False</td> \n",
       "        <td id=\"T_7dd90ab9_8a07_11e9_a987_02421cf4aecarow4_col11\" class=\"data row4 col11\" >False</td> \n",
       "        <td id=\"T_7dd90ab9_8a07_11e9_a987_02421cf4aecarow4_col12\" class=\"data row4 col12\" >False</td> \n",
       "        <td id=\"T_7dd90ab9_8a07_11e9_a987_02421cf4aecarow4_col13\" class=\"data row4 col13\" >False</td> \n",
       "        <td id=\"T_7dd90ab9_8a07_11e9_a987_02421cf4aecarow4_col14\" class=\"data row4 col14\" >False</td> \n",
       "    </tr></tbody> \n",
       "</table> "
      ],
      "text/plain": [
       "<pandas.io.formats.style.Styler at 0x7f09114be828>"
      ]
     },
     "execution_count": 27,
     "metadata": {},
     "output_type": "execute_result"
    }
   ],
   "source": [
    "# parity checks\n",
    "# low_threshold (0.8) < *_metric/white_metric < (high_threshold) 1.25 => parity, else disparity \n",
    "\n",
    "# init frame for parity\n",
    "par_frame = pd.DataFrame(index=levels, \n",
    "                         columns=[col + ' Parity' for col in metrics_frame.columns])\n",
    "# nested loop through: \n",
    "# - marriage statuses\n",
    "# - disparity metrics\n",
    "for i, _ in enumerate(levels):\n",
    "    for j, _ in enumerate(par_frame.columns):\n",
    "        par_frame.iat[i, j] = (parity_threshold_low < disp_frame.iat[i, j] < parity_threshold_hi)\n",
    "\n",
    "# add overall parity checks\n",
    "# Type I Parity: Fairness in both FDR Parity and FPR Parity\n",
    "# Type II Parity: Fairness in both FOR Parity and FNR Parity\n",
    "# Equalized Odds: Fairness in both FPR Parity and TPR Parity\n",
    "# Supervised Fairness: Fairness in both Type I and Type II Parity\n",
    "# Overall Fairness: Fairness across all parities for all metrics\n",
    "par_frame['Type I Parity'] = (par_frame['False Discovery Rate Parity']) & (par_frame['False Positive Rate Parity'])\n",
    "par_frame['Type II Parity'] = (par_frame['False Omissions Rate Parity']) & (par_frame['False Negative Rate Parity'])\n",
    "par_frame['Equalized Odds'] = (par_frame['False Positive Rate Parity']) & (par_frame['True Positive Rate Parity'])\n",
    "par_frame['Supervised Fairness'] = (par_frame['Type I Parity']) & (par_frame['Type II Parity'])\n",
    "par_frame['Overall Fairness'] = par_frame.all(axis='columns')\n",
    "par_frame.loc['all', :] = par_frame.all(axis='index')\n",
    "    \n",
    "# small utility function to format pandas table output    \n",
    "def color_false_red(val):\n",
    "\n",
    "    color = 'red' if not val else 'blue'\n",
    "    return 'color: %s' % color \n",
    "    \n",
    "par_frame.style.applymap(color_false_red)"
   ]
  }
 ],
 "metadata": {
  "anaconda-cloud": {},
  "kernelspec": {
   "display_name": "Python 3",
   "language": "python",
   "name": "python3"
  },
  "language_info": {
   "codemirror_mode": {
    "name": "ipython",
    "version": 3
   },
   "file_extension": ".py",
   "mimetype": "text/x-python",
   "name": "python",
   "nbconvert_exporter": "python",
   "pygments_lexer": "ipython3",
   "version": "3.6.4"
  }
 },
 "nbformat": 4,
 "nbformat_minor": 2
}
